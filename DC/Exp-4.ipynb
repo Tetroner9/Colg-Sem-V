{
  "nbformat": 4,
  "nbformat_minor": 0,
  "metadata": {
    "colab": {
      "provenance": []
    },
    "kernelspec": {
      "name": "python3",
      "display_name": "Python 3"
    },
    "language_info": {
      "name": "python"
    }
  },
  "cells": [
    {
      "cell_type": "code",
      "execution_count": null,
      "metadata": {
        "id": "xjTSqWPLrIPN"
      },
      "outputs": [],
      "source": [
        "import numpy as np"
      ]
    },
    {
      "cell_type": "markdown",
      "source": [
        "Frequency Domain"
      ],
      "metadata": {
        "id": "K1cC6yeEwNKe"
      }
    },
    {
      "cell_type": "code",
      "source": [
        "v1 = np.array([1,1,0])\n",
        "print(\"V1 = \", v1)\n",
        "v2 = np.array([1,1,1])\n",
        "print(\"V2 = \", v2)\n",
        "m  = np.array([1,0,0,1,0,0,0,1]) #roll no 35\n",
        "print(\"M  = \", m)"
      ],
      "metadata": {
        "colab": {
          "base_uri": "https://localhost:8080/"
        },
        "id": "3ifDvfBfrPQv",
        "outputId": "7a17e731-fc1c-41e6-d2b6-5aacfd3039bf"
      },
      "execution_count": null,
      "outputs": [
        {
          "output_type": "stream",
          "name": "stdout",
          "text": [
            "V1 =  [1 1 0]\n",
            "V2 =  [1 1 1]\n",
            "M  =  [1 0 0 1 0 0 0 1]\n"
          ]
        }
      ]
    },
    {
      "cell_type": "code",
      "source": [
        "v1p = np.poly1d(v1)\n",
        "print(\"V1(p) = \", v1p)\n",
        "v2p = np.poly1d(v2)\n",
        "print(\"V2(p) = \", v2p)\n",
        "mp  = np.poly1d(m)\n",
        "print(\"M(p)  = \", mp)"
      ],
      "metadata": {
        "colab": {
          "base_uri": "https://localhost:8080/"
        },
        "id": "C0lS1Zktrqz_",
        "outputId": "b8e90e93-2fbb-4843-9863-f3d33e99c3ce"
      },
      "execution_count": null,
      "outputs": [
        {
          "output_type": "stream",
          "name": "stdout",
          "text": [
            "V1(p) =     2\n",
            "1 x + 1 x\n",
            "V2(p) =     2\n",
            "1 x + 1 x + 1\n",
            "M(p)  =     7     4\n",
            "1 x + 1 x + 1\n"
          ]
        }
      ]
    },
    {
      "cell_type": "code",
      "source": [
        "v1sp = v1p * mp\n",
        "print(v1sp)\n",
        "v2sp = v2p * mp\n",
        "print(v2sp)"
      ],
      "metadata": {
        "colab": {
          "base_uri": "https://localhost:8080/"
        },
        "id": "3lA5pisnsEwu",
        "outputId": "12851e93-d4d7-477a-fff0-26ab09f87cd3"
      },
      "execution_count": null,
      "outputs": [
        {
          "output_type": "stream",
          "name": "stdout",
          "text": [
            "   9     8     6     5     2\n",
            "1 x + 1 x + 1 x + 1 x + 1 x + 1 x\n",
            "   9     8     7     6     5     4     2\n",
            "1 x + 1 x + 1 x + 1 x + 1 x + 1 x + 1 x + 1 x + 1\n"
          ]
        }
      ]
    },
    {
      "cell_type": "code",
      "source": [
        "v1s = v1sp.c % 2\n",
        "print(v1s)\n",
        "v2s = v2sp.c % 2\n",
        "print(v2s)"
      ],
      "metadata": {
        "colab": {
          "base_uri": "https://localhost:8080/"
        },
        "id": "MtncampuszvX",
        "outputId": "06a3134c-1240-4e4d-f1be-4f65b5bd978d"
      },
      "execution_count": null,
      "outputs": [
        {
          "output_type": "stream",
          "name": "stdout",
          "text": [
            "[1 1 0 1 1 0 0 1 1 0]\n",
            "[1 1 1 1 1 1 0 1 1 1]\n"
          ]
        }
      ]
    },
    {
      "cell_type": "code",
      "source": [
        "C = np.zeros((v1s.shape[0],2))\n",
        "for i in range (v1s.shape[0]):\n",
        "  C[i,:] = [v1s[i], v2s[i]]\n",
        "print(\"C = \", C.flatten())"
      ],
      "metadata": {
        "colab": {
          "base_uri": "https://localhost:8080/"
        },
        "id": "XlmCj6AAsjbN",
        "outputId": "9138a750-cf4e-498e-b22d-07981f0f39d6"
      },
      "execution_count": null,
      "outputs": [
        {
          "output_type": "stream",
          "name": "stdout",
          "text": [
            "C =  [1. 1. 1. 1. 0. 1. 1. 1. 1. 1. 0. 1. 0. 0. 1. 1. 1. 1. 0. 1.]\n"
          ]
        }
      ]
    },
    {
      "cell_type": "markdown",
      "source": [
        "Impulse Time Domain"
      ],
      "metadata": {
        "id": "mPXCgg9LvhWN"
      }
    },
    {
      "cell_type": "code",
      "source": [
        "v1s = np.convolve(v1, m) % 2\n",
        "print(v1s)\n",
        "v2s = np.convolve(v2, m) % 2\n",
        "print(v2s)"
      ],
      "metadata": {
        "colab": {
          "base_uri": "https://localhost:8080/"
        },
        "id": "ZZx6u1Bavoh7",
        "outputId": "8298afa6-f8e7-45ab-d1ad-87f8273df553"
      },
      "execution_count": null,
      "outputs": [
        {
          "output_type": "stream",
          "name": "stdout",
          "text": [
            "[1 1 0 1 1 0 0 1 1 0]\n",
            "[1 1 1 1 1 1 0 1 1 1]\n"
          ]
        }
      ]
    },
    {
      "cell_type": "code",
      "source": [
        "C = np.zeros((v1s.shape[0],2))\n",
        "for i in range (v1s.shape[0]):\n",
        "  C[i,:] = [v1s[i], v2s[i]]\n",
        "print(\"C = \", C.flatten())"
      ],
      "metadata": {
        "colab": {
          "base_uri": "https://localhost:8080/"
        },
        "id": "yYwYvHuwwHpN",
        "outputId": "37c7fa48-ce92-4ba2-95af-ebfaf8c0ab61"
      },
      "execution_count": null,
      "outputs": [
        {
          "output_type": "stream",
          "name": "stdout",
          "text": [
            "C =  [1. 1. 1. 1. 0. 1. 1. 1. 1. 1. 0. 1. 0. 0. 1. 1. 1. 1. 0. 1.]\n"
          ]
        }
      ]
    }
  ]
}