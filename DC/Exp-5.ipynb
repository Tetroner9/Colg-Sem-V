{
  "nbformat": 4,
  "nbformat_minor": 0,
  "metadata": {
    "colab": {
      "provenance": []
    },
    "kernelspec": {
      "name": "python3",
      "display_name": "Python 3"
    },
    "language_info": {
      "name": "python"
    }
  },
  "cells": [
    {
      "cell_type": "code",
      "execution_count": null,
      "metadata": {
        "id": "N6MMgk1Eh5bi"
      },
      "outputs": [],
      "source": [
        "import numpy as np"
      ]
    },
    {
      "cell_type": "code",
      "source": [
        "M = np.array([1,0,1,1,0,1])\n",
        "d = np.array([1,0,1,1])\n",
        "print(M)\n",
        "print(d)"
      ],
      "metadata": {
        "colab": {
          "base_uri": "https://localhost:8080/"
        },
        "id": "z9DijWlLlllQ",
        "outputId": "527d3e28-ff63-4cee-9898-1ae00e35a193"
      },
      "execution_count": null,
      "outputs": [
        {
          "output_type": "stream",
          "name": "stdout",
          "text": [
            "[1 0 1 1 0 1]\n",
            "[1 0 1 1]\n"
          ]
        }
      ]
    },
    {
      "cell_type": "code",
      "source": [
        "L = len(d)\n",
        "print(L)"
      ],
      "metadata": {
        "colab": {
          "base_uri": "https://localhost:8080/"
        },
        "id": "LKzWc-TUl2QB",
        "outputId": "ef7c48ff-813f-429d-8bf1-3cd8c19c4722"
      },
      "execution_count": null,
      "outputs": [
        {
          "output_type": "stream",
          "name": "stdout",
          "text": [
            "4\n"
          ]
        }
      ]
    },
    {
      "cell_type": "code",
      "source": [
        "t = np.zeros((L, ))\n",
        "t[0] = 1\n",
        "print(t)"
      ],
      "metadata": {
        "colab": {
          "base_uri": "https://localhost:8080/"
        },
        "id": "dGC3S7Dul_-S",
        "outputId": "715a00b1-ef4e-48cd-ae76-211ab1b59747"
      },
      "execution_count": null,
      "outputs": [
        {
          "output_type": "stream",
          "name": "stdout",
          "text": [
            "[1. 0. 0. 0.]\n"
          ]
        }
      ]
    },
    {
      "cell_type": "code",
      "source": [
        "Mx = np.poly1d(M)\n",
        "tx = np.poly1d(t)\n",
        "print(Mx)\n",
        "print(tx)"
      ],
      "metadata": {
        "colab": {
          "base_uri": "https://localhost:8080/"
        },
        "id": "uC26UvmWmGRi",
        "outputId": "d2ec7e60-ebf9-4f7b-a232-e127fba3579f"
      },
      "execution_count": null,
      "outputs": [
        {
          "output_type": "stream",
          "name": "stdout",
          "text": [
            "   5     3     2\n",
            "1 x + 1 x + 1 x + 1\n",
            "   3\n",
            "1 x\n"
          ]
        }
      ]
    },
    {
      "cell_type": "code",
      "source": [
        "aMx = np.polymul(Mx,tx)\n",
        "print(aMx)"
      ],
      "metadata": {
        "colab": {
          "base_uri": "https://localhost:8080/"
        },
        "id": "H_nXvaG8mWOj",
        "outputId": "b3620edd-e79f-4a0b-c7e5-cc6f266de71b"
      },
      "execution_count": null,
      "outputs": [
        {
          "output_type": "stream",
          "name": "stdout",
          "text": [
            "   8     6     5     3\n",
            "1 x + 1 x + 1 x + 1 x\n"
          ]
        }
      ]
    },
    {
      "cell_type": "code",
      "source": [
        "dx = np.poly1d(d)\n",
        "print(dx)"
      ],
      "metadata": {
        "colab": {
          "base_uri": "https://localhost:8080/"
        },
        "id": "Eb1DOKzjmv5m",
        "outputId": "b4977c1b-80f1-4d6f-fb99-6338ee94e199"
      },
      "execution_count": null,
      "outputs": [
        {
          "output_type": "stream",
          "name": "stdout",
          "text": [
            "   3\n",
            "1 x + 1 x + 1\n"
          ]
        }
      ]
    },
    {
      "cell_type": "code",
      "source": [
        "qx, rx = np.polydiv(aMx,dx)\n",
        "r = rx.c % 2\n",
        "print(r)\n",
        "print(qx.c % 2)"
      ],
      "metadata": {
        "colab": {
          "base_uri": "https://localhost:8080/"
        },
        "id": "sV0qZlZzm-I4",
        "outputId": "b0e6f70f-2a07-460a-8555-f7c2fe527fe4"
      },
      "execution_count": null,
      "outputs": [
        {
          "output_type": "stream",
          "name": "stdout",
          "text": [
            "[1. 1.]\n",
            "[1. 0. 0. 0. 0. 1.]\n"
          ]
        }
      ]
    },
    {
      "cell_type": "code",
      "source": [
        "C = np.zeros ((len(M) + L - 1))\n",
        "for i in range (len(M)):\n",
        "  C[i] = M[i]\n",
        "j = i\n",
        "for i in range(len(r)):\n",
        "  C [j + 2] = r[i]\n",
        "  j = j + 1\n",
        "print(C)"
      ],
      "metadata": {
        "colab": {
          "base_uri": "https://localhost:8080/"
        },
        "id": "dwVclXf-nHtq",
        "outputId": "e342a859-218b-4118-8c3a-63bd7d5cd661"
      },
      "execution_count": null,
      "outputs": [
        {
          "output_type": "stream",
          "name": "stdout",
          "text": [
            "[1. 0. 1. 1. 0. 1. 0. 1. 1.]\n"
          ]
        }
      ]
    },
    {
      "cell_type": "code",
      "source": [
        "R = C\n",
        "loc = 4\n",
        "# R[loc] = int(not (R [loc]))\n",
        "print(R)"
      ],
      "metadata": {
        "colab": {
          "base_uri": "https://localhost:8080/"
        },
        "id": "mcYxbG2fnm4t",
        "outputId": "d3ca7bd6-dc1f-439f-c7cb-5228984ad5f4"
      },
      "execution_count": null,
      "outputs": [
        {
          "output_type": "stream",
          "name": "stdout",
          "text": [
            "[1. 0. 1. 1. 0. 1. 0. 1. 1.]\n"
          ]
        }
      ]
    },
    {
      "cell_type": "code",
      "source": [
        "Rx = np.poly1d (R)\n",
        "Qx, Rex = np.polydiv (Rx,dx)\n",
        "Re = Rex.c % 2\n",
        "print(Re)"
      ],
      "metadata": {
        "colab": {
          "base_uri": "https://localhost:8080/"
        },
        "id": "RijWXsdyn0RO",
        "outputId": "a42d9801-96d1-4ae1-8ca8-7b436177f4bb"
      },
      "execution_count": null,
      "outputs": [
        {
          "output_type": "stream",
          "name": "stdout",
          "text": [
            "[0.]\n"
          ]
        }
      ]
    },
    {
      "cell_type": "code",
      "source": [
        "for i in Re:\n",
        "  if i != 0:\n",
        "    print(\"Error Detected\")\n",
        "    break\n",
        "  elif i == 0:\n",
        "    print(\"No Error Detected\")"
      ],
      "metadata": {
        "colab": {
          "base_uri": "https://localhost:8080/"
        },
        "id": "uSwiehpGoGX_",
        "outputId": "29021ae7-23c5-4e74-c7af-71cd19027b9f"
      },
      "execution_count": null,
      "outputs": [
        {
          "output_type": "stream",
          "name": "stdout",
          "text": [
            "No Error Detected\n"
          ]
        }
      ]
    }
  ]
}