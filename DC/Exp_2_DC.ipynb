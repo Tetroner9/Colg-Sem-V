{
 "cells": [
  {
   "cell_type": "code",
   "execution_count": 1,
   "metadata": {
    "ExecuteTime": {
     "end_time": "2023-08-27T13:33:19.920265021Z",
     "start_time": "2023-08-27T13:33:19.839467699Z"
    },
    "colab": {
     "base_uri": "https://localhost:8080/"
    },
    "id": "GNFdtrtketaW",
    "outputId": "412dd46c-b708-45ac-fb8a-d852ca9d1e3a"
   },
   "outputs": [
    {
     "name": "stdout",
     "output_type": "stream",
     "text": [
      "Parity:  [[0 0 1]\n",
      " [1 1 1]\n",
      " [1 1 0]\n",
      " [1 0 1]]\n"
     ]
    }
   ],
   "source": [
    "import numpy as np\n",
    "n = 7\n",
    "k = 4\n",
    "P = np.array([[0,0,1],[1,1,1],[1,1,0],[1,0,1]])\n",
    "print(\"Parity: \", P)"
   ]
  },
  {
   "cell_type": "code",
   "execution_count": 2,
   "metadata": {
    "ExecuteTime": {
     "end_time": "2023-08-27T13:33:19.920957868Z",
     "start_time": "2023-08-27T13:33:19.862923158Z"
    },
    "colab": {
     "base_uri": "https://localhost:8080/"
    },
    "id": "g-etcMiofIGh",
    "outputId": "ce65f077-8f5a-4dae-f56f-ec7c78198be6"
   },
   "outputs": [
    {
     "name": "stdout",
     "output_type": "stream",
     "text": [
      "[[1. 0. 0. 0.]\n",
      " [0. 1. 0. 0.]\n",
      " [0. 0. 1. 0.]\n",
      " [0. 0. 0. 1.]]\n"
     ]
    }
   ],
   "source": [
    "I = np.eye(k)\n",
    "print(I)"
   ]
  },
  {
   "cell_type": "code",
   "execution_count": 3,
   "metadata": {
    "ExecuteTime": {
     "end_time": "2023-08-27T13:33:19.923676967Z",
     "start_time": "2023-08-27T13:33:19.869001634Z"
    },
    "colab": {
     "base_uri": "https://localhost:8080/"
    },
    "id": "u6OfLIIdfSWH",
    "outputId": "363691a4-84fd-411d-dc59-551922c248eb"
   },
   "outputs": [
    {
     "name": "stdout",
     "output_type": "stream",
     "text": [
      "[[1. 0. 0. 0. 0. 0. 1.]\n",
      " [0. 1. 0. 0. 1. 1. 1.]\n",
      " [0. 0. 1. 0. 1. 1. 0.]\n",
      " [0. 0. 0. 1. 1. 0. 1.]]\n"
     ]
    }
   ],
   "source": [
    "G = np.hstack((I,P))\n",
    "print(G)"
   ]
  },
  {
   "cell_type": "code",
   "execution_count": 4,
   "metadata": {
    "ExecuteTime": {
     "end_time": "2023-08-27T13:33:19.935359745Z",
     "start_time": "2023-08-27T13:33:19.912974486Z"
    },
    "colab": {
     "base_uri": "https://localhost:8080/"
    },
    "id": "IIeJxuWJfiMg",
    "outputId": "2a39aba7-6582-4d7e-ff5b-1707edd1f51f"
   },
   "outputs": [
    {
     "data": {
      "text/plain": [
       "array([ 0,  1,  2,  3,  4,  5,  6,  7,  8,  9, 10, 11, 12, 13, 14, 15])"
      ]
     },
     "execution_count": 4,
     "metadata": {},
     "output_type": "execute_result"
    }
   ],
   "source": [
    "m = np.arange(2 ** k)\n",
    "m"
   ]
  },
  {
   "cell_type": "code",
   "execution_count": 5,
   "metadata": {
    "ExecuteTime": {
     "end_time": "2023-08-27T13:33:19.936190478Z",
     "start_time": "2023-08-27T13:33:19.913428503Z"
    },
    "colab": {
     "base_uri": "https://localhost:8080/"
    },
    "id": "7NU8z-34f3y4",
    "outputId": "2c45a28c-ba85-46b9-9caa-4ba0a0ffae5b"
   },
   "outputs": [
    {
     "data": {
      "text/plain": [
       "array([[0., 0., 0., 0.],\n",
       "       [0., 0., 0., 0.],\n",
       "       [0., 0., 0., 0.],\n",
       "       [0., 0., 0., 0.],\n",
       "       [0., 0., 0., 0.],\n",
       "       [0., 0., 0., 0.],\n",
       "       [0., 0., 0., 0.],\n",
       "       [0., 0., 0., 0.],\n",
       "       [0., 0., 0., 0.],\n",
       "       [0., 0., 0., 0.],\n",
       "       [0., 0., 0., 0.],\n",
       "       [0., 0., 0., 0.],\n",
       "       [0., 0., 0., 0.],\n",
       "       [0., 0., 0., 0.],\n",
       "       [0., 0., 0., 0.],\n",
       "       [0., 0., 0., 0.]])"
      ]
     },
     "execution_count": 5,
     "metadata": {},
     "output_type": "execute_result"
    }
   ],
   "source": [
    "D = np.zeros((2 ** k, k))\n",
    "D"
   ]
  },
  {
   "cell_type": "code",
   "execution_count": 6,
   "metadata": {
    "ExecuteTime": {
     "end_time": "2023-08-27T13:33:19.936858853Z",
     "start_time": "2023-08-27T13:33:19.913833966Z"
    },
    "colab": {
     "base_uri": "https://localhost:8080/"
    },
    "id": "O6wgND9ugHEY",
    "outputId": "f4bd81e1-2466-4ea0-b874-358e8168bd46"
   },
   "outputs": [
    {
     "data": {
      "text/plain": [
       "array([[0., 0., 0., 0.],\n",
       "       [0., 0., 0., 1.],\n",
       "       [0., 0., 1., 0.],\n",
       "       [0., 0., 1., 1.],\n",
       "       [0., 1., 0., 0.],\n",
       "       [0., 1., 0., 1.],\n",
       "       [0., 1., 1., 0.],\n",
       "       [0., 1., 1., 1.],\n",
       "       [1., 0., 0., 0.],\n",
       "       [1., 0., 0., 1.],\n",
       "       [1., 0., 1., 0.],\n",
       "       [1., 0., 1., 1.],\n",
       "       [1., 1., 0., 0.],\n",
       "       [1., 1., 0., 1.],\n",
       "       [1., 1., 1., 0.],\n",
       "       [1., 1., 1., 1.]])"
      ]
     },
     "execution_count": 6,
     "metadata": {},
     "output_type": "execute_result"
    }
   ],
   "source": [
    "for i in m:\n",
    "  z = '{0:04b}'.format(i)\n",
    "  zs = [int(i) for i in z]\n",
    "  D[i,:] = zs\n",
    "D"
   ]
  },
  {
   "cell_type": "code",
   "execution_count": 7,
   "metadata": {
    "ExecuteTime": {
     "end_time": "2023-08-27T13:33:19.937421007Z",
     "start_time": "2023-08-27T13:33:19.914212707Z"
    },
    "colab": {
     "base_uri": "https://localhost:8080/"
    },
    "id": "3M6qgvD-gdXB",
    "outputId": "f835a115-485f-4ba8-d4b7-5f2126b4054c"
   },
   "outputs": [
    {
     "name": "stdout",
     "output_type": "stream",
     "text": [
      "Codeword:  [[0. 0. 0. 0. 0. 0. 0.]\n",
      " [0. 0. 0. 1. 1. 0. 1.]\n",
      " [0. 0. 1. 0. 1. 1. 0.]\n",
      " [0. 0. 1. 1. 2. 1. 1.]\n",
      " [0. 1. 0. 0. 1. 1. 1.]\n",
      " [0. 1. 0. 1. 2. 1. 2.]\n",
      " [0. 1. 1. 0. 2. 2. 1.]\n",
      " [0. 1. 1. 1. 3. 2. 2.]\n",
      " [1. 0. 0. 0. 0. 0. 1.]\n",
      " [1. 0. 0. 1. 1. 0. 2.]\n",
      " [1. 0. 1. 0. 1. 1. 1.]\n",
      " [1. 0. 1. 1. 2. 1. 2.]\n",
      " [1. 1. 0. 0. 1. 1. 2.]\n",
      " [1. 1. 0. 1. 2. 1. 3.]\n",
      " [1. 1. 1. 0. 2. 2. 2.]\n",
      " [1. 1. 1. 1. 3. 2. 3.]]\n"
     ]
    }
   ],
   "source": [
    "C = np.dot(D,G)\n",
    "print(\"Codeword: \",C)"
   ]
  },
  {
   "cell_type": "code",
   "execution_count": 8,
   "metadata": {
    "ExecuteTime": {
     "end_time": "2023-08-27T13:33:19.938141328Z",
     "start_time": "2023-08-27T13:33:19.914704537Z"
    },
    "colab": {
     "base_uri": "https://localhost:8080/"
    },
    "id": "Y9r4um85grMo",
    "outputId": "1d1f465a-9495-4f71-9c8e-c0c2c4b06a1e"
   },
   "outputs": [
    {
     "data": {
      "text/plain": [
       "array([[0., 0., 0., 0., 0., 0., 0.],\n",
       "       [0., 0., 0., 1., 1., 0., 1.],\n",
       "       [0., 0., 1., 0., 1., 1., 0.],\n",
       "       [0., 0., 1., 1., 0., 1., 1.],\n",
       "       [0., 1., 0., 0., 1., 1., 1.],\n",
       "       [0., 1., 0., 1., 0., 1., 0.],\n",
       "       [0., 1., 1., 0., 0., 0., 1.],\n",
       "       [0., 1., 1., 1., 1., 0., 0.],\n",
       "       [1., 0., 0., 0., 0., 0., 1.],\n",
       "       [1., 0., 0., 1., 1., 0., 0.],\n",
       "       [1., 0., 1., 0., 1., 1., 1.],\n",
       "       [1., 0., 1., 1., 0., 1., 0.],\n",
       "       [1., 1., 0., 0., 1., 1., 0.],\n",
       "       [1., 1., 0., 1., 0., 1., 1.],\n",
       "       [1., 1., 1., 0., 0., 0., 0.],\n",
       "       [1., 1., 1., 1., 1., 0., 1.]])"
      ]
     },
     "execution_count": 8,
     "metadata": {},
     "output_type": "execute_result"
    }
   ],
   "source": [
    "C = C % 2\n",
    "C"
   ]
  },
  {
   "cell_type": "code",
   "execution_count": 9,
   "metadata": {
    "ExecuteTime": {
     "end_time": "2023-08-27T13:33:20.092971074Z",
     "start_time": "2023-08-27T13:33:19.952310820Z"
    },
    "colab": {
     "base_uri": "https://localhost:8080/"
    },
    "id": "aVzHAodxhnM5",
    "outputId": "a0d2b368-4a90-43cf-b1df-a34aaa4900ee"
   },
   "outputs": [
    {
     "data": {
      "text/plain": [
       "array([[0, 0, 0, 0, 0, 0, 0],\n",
       "       [0, 0, 0, 1, 1, 0, 1],\n",
       "       [0, 0, 1, 0, 1, 1, 0],\n",
       "       [0, 0, 1, 1, 0, 1, 1],\n",
       "       [0, 1, 0, 0, 1, 1, 1],\n",
       "       [0, 1, 0, 1, 0, 1, 0],\n",
       "       [0, 1, 1, 0, 0, 0, 1],\n",
       "       [0, 1, 1, 1, 1, 0, 0],\n",
       "       [1, 0, 0, 0, 0, 0, 1],\n",
       "       [1, 0, 0, 1, 1, 0, 0],\n",
       "       [1, 0, 1, 0, 1, 1, 1],\n",
       "       [1, 0, 1, 1, 0, 1, 0],\n",
       "       [1, 1, 0, 0, 1, 1, 0],\n",
       "       [1, 1, 0, 1, 0, 1, 1],\n",
       "       [1, 1, 1, 0, 0, 0, 0],\n",
       "       [1, 1, 1, 1, 1, 0, 1]])"
      ]
     },
     "execution_count": 9,
     "metadata": {},
     "output_type": "execute_result"
    }
   ],
   "source": [
    "C = C.astype(int)\n",
    "C"
   ]
  },
  {
   "cell_type": "markdown",
   "metadata": {
    "id": "Wn2Bj011iZbI"
   },
   "source": [
    "DECODING"
   ]
  },
  {
   "cell_type": "code",
   "execution_count": 10,
   "metadata": {
    "ExecuteTime": {
     "end_time": "2023-08-27T13:33:20.094184650Z",
     "start_time": "2023-08-27T13:33:19.952687759Z"
    },
    "colab": {
     "base_uri": "https://localhost:8080/"
    },
    "id": "E3kIHwBGia1I",
    "outputId": "9140f119-c146-4700-99bf-8c9364dec99c"
   },
   "outputs": [
    {
     "data": {
      "text/plain": [
       "array([0, 1, 1, 1, 0, 1, 1])"
      ]
     },
     "execution_count": 10,
     "metadata": {},
     "output_type": "execute_result"
    }
   ],
   "source": [
    "index = 3\n",
    "loc = 1\n",
    "R = C[index, :]\n",
    "R[loc] = int(not R[loc])\n",
    "R"
   ]
  },
  {
   "cell_type": "code",
   "execution_count": 11,
   "metadata": {
    "ExecuteTime": {
     "end_time": "2023-08-27T13:33:20.094727764Z",
     "start_time": "2023-08-27T13:33:19.952874569Z"
    },
    "colab": {
     "base_uri": "https://localhost:8080/"
    },
    "id": "0Zq00aawoxtZ",
    "outputId": "804f5a83-96ae-4f28-bf88-32a505f6da7f"
   },
   "outputs": [
    {
     "data": {
      "text/plain": [
       "array([[1., 0., 0.],\n",
       "       [0., 1., 0.],\n",
       "       [0., 0., 1.]])"
      ]
     },
     "execution_count": 11,
     "metadata": {},
     "output_type": "execute_result"
    }
   ],
   "source": [
    "I = np.eye(n-k)\n",
    "I"
   ]
  },
  {
   "cell_type": "code",
   "execution_count": 12,
   "metadata": {
    "ExecuteTime": {
     "end_time": "2023-08-27T13:33:20.095274357Z",
     "start_time": "2023-08-27T13:33:19.953062013Z"
    },
    "colab": {
     "base_uri": "https://localhost:8080/"
    },
    "id": "8Rr7qZBUo6pR",
    "outputId": "9051581c-cd66-4406-8283-762c8703c8de"
   },
   "outputs": [
    {
     "data": {
      "text/plain": [
       "array([[0., 1., 1., 1., 1., 0., 0.],\n",
       "       [0., 1., 1., 0., 0., 1., 0.],\n",
       "       [1., 1., 0., 1., 0., 0., 1.]])"
      ]
     },
     "execution_count": 12,
     "metadata": {},
     "output_type": "execute_result"
    }
   ],
   "source": [
    "\n",
    "H = np.hstack((P.T,I))\n",
    "H"
   ]
  },
  {
   "cell_type": "code",
   "execution_count": 13,
   "metadata": {
    "ExecuteTime": {
     "end_time": "2023-08-27T13:33:20.095809611Z",
     "start_time": "2023-08-27T13:33:19.953322113Z"
    },
    "colab": {
     "base_uri": "https://localhost:8080/"
    },
    "id": "CGhBthGTpXQB",
    "outputId": "0006c779-6606-4de2-8df8-1d8e8bb05b16"
   },
   "outputs": [
    {
     "data": {
      "text/plain": [
       "array([1, 1, 1])"
      ]
     },
     "execution_count": 13,
     "metadata": {},
     "output_type": "execute_result"
    }
   ],
   "source": [
    "S = np.dot(R,H.T).astype(int) % 2\n",
    "S"
   ]
  },
  {
   "cell_type": "code",
   "execution_count": 14,
   "metadata": {
    "ExecuteTime": {
     "end_time": "2023-08-27T13:33:20.096470358Z",
     "start_time": "2023-08-27T13:33:19.953756021Z"
    },
    "colab": {
     "base_uri": "https://localhost:8080/"
    },
    "id": "tr3BK4q6pomY",
    "outputId": "96d5d993-7eb1-4980-bb7b-a2f3511d7082"
   },
   "outputs": [
    {
     "name": "stdout",
     "output_type": "stream",
     "text": [
      "Error in bit:  1\n",
      "Corrected C:  [0 0 1 1 0 1 1]\n"
     ]
    }
   ],
   "source": [
    "X = H.T\n",
    "for i in range(X.shape[1]):\n",
    "  if np.array_equal(S,X[i,:]):\n",
    "    R[i] = int(not R[i])\n",
    "    print(\"Error in bit: \", i)\n",
    "    break\n",
    "\n",
    "print(\"Corrected C: \",R)"
   ]
  }
 ],
 "metadata": {
  "colab": {
   "provenance": []
  },
  "kernelspec": {
   "display_name": "Python 3 (ipykernel)",
   "language": "python",
   "name": "python3"
  },
  "language_info": {
   "codemirror_mode": {
    "name": "ipython",
    "version": 3
   },
   "file_extension": ".py",
   "mimetype": "text/x-python",
   "name": "python",
   "nbconvert_exporter": "python",
   "pygments_lexer": "ipython3",
   "version": "3.11.3"
  }
 },
 "nbformat": 4,
 "nbformat_minor": 4
}
