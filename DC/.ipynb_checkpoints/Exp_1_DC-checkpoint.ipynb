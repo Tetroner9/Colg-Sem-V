{
 "cells": [
  {
   "cell_type": "markdown",
   "id": "3q9cPs3xUbY8",
   "metadata": {
    "id": "3q9cPs3xUbY8"
   },
   "source": [
    "**OM KADAM AND MANAV GHADI**"
   ]
  },
  {
   "cell_type": "code",
   "execution_count": 1,
   "id": "initial_id",
   "metadata": {
    "ExecuteTime": {
     "end_time": "2023-08-27T13:32:46.604395291Z",
     "start_time": "2023-08-27T13:32:46.510446294Z"
    },
    "collapsed": true,
    "id": "initial_id",
    "jupyter": {
     "outputs_hidden": true
    }
   },
   "outputs": [],
   "source": [
    "import numpy as np\n",
    "import warnings\n",
    "warnings.filterwarnings(\"ignore\", category=DeprecationWarning)"
   ]
  },
  {
   "cell_type": "code",
   "execution_count": 2,
   "id": "39447e16a8348913",
   "metadata": {
    "ExecuteTime": {
     "end_time": "2023-08-27T13:32:46.630750454Z",
     "start_time": "2023-08-27T13:32:46.606211401Z"
    },
    "colab": {
     "base_uri": "https://localhost:8080/"
    },
    "id": "39447e16a8348913",
    "outputId": "0d8f2da7-7b65-4d3d-fdbc-8ec261be5db1"
   },
   "outputs": [
    {
     "name": "stdout",
     "output_type": "stream",
     "text": [
      "[[0.125   0.0625  0.03125 0.03125]\n",
      " [0.0625  0.125   0.03125 0.03125]\n",
      " [0.0625  0.0625  0.0625  0.0625 ]\n",
      " [0.25    0.      0.      0.     ]]\n"
     ]
    }
   ],
   "source": [
    "joint = np.array([[1/8,1/16,1/32,1/32], [1/16,1/8,1/32,1/32], [1/16,1/16,1/16,1/16], [1/4,0,0,0] ])\n",
    "print(joint)"
   ]
  },
  {
   "cell_type": "code",
   "execution_count": 3,
   "id": "497dd02097ae741",
   "metadata": {
    "ExecuteTime": {
     "end_time": "2023-08-27T13:32:46.675791382Z",
     "start_time": "2023-08-27T13:32:46.615452685Z"
    },
    "colab": {
     "base_uri": "https://localhost:8080/"
    },
    "id": "497dd02097ae741",
    "outputId": "d7f5192e-418d-4a67-a09b-c6ebac4c9573"
   },
   "outputs": [
    {
     "data": {
      "text/plain": [
       "3.375"
      ]
     },
     "execution_count": 3,
     "metadata": {},
     "output_type": "execute_result"
    }
   ],
   "source": [
    "joint_temp=joint.flatten()\n",
    "H_XY=-np.sum(p*np.log2(p) for p in joint_temp if p>0)\n",
    "H_XY"
   ]
  },
  {
   "cell_type": "code",
   "execution_count": 4,
   "id": "5c9f4fda36a2457b",
   "metadata": {
    "ExecuteTime": {
     "end_time": "2023-08-27T13:32:46.676189249Z",
     "start_time": "2023-08-27T13:32:46.657725347Z"
    },
    "colab": {
     "base_uri": "https://localhost:8080/"
    },
    "id": "5c9f4fda36a2457b",
    "outputId": "d397f0e1-2c16-4fbd-ee55-5b5f12097378"
   },
   "outputs": [
    {
     "name": "stdout",
     "output_type": "stream",
     "text": [
      "\n",
      "PX =  [0.25 0.25 0.25 0.25]\n",
      "\n",
      "HX =  2.0\n",
      "\n",
      "PY =  [0.5   0.25  0.125 0.125]\n",
      "\n",
      "HY =  1.75\n"
     ]
    }
   ],
   "source": [
    "PX = np.sum(joint,axis = 1)\n",
    "print(\"\\nPX = \",PX)\n",
    "\n",
    "HX = -np.sum(p * np.log2(p) for p in PX if p>0)\n",
    "print(\"\\nHX = \",HX)\n",
    "\n",
    "PY = np.sum(joint,axis = 0)\n",
    "print(\"\\nPY = \",PY)\n",
    "\n",
    "HY = -np.sum(p * np.log2(p) for p in PY if p>0)\n",
    "print(\"\\nHY = \",HY)"
   ]
  },
  {
   "cell_type": "code",
   "execution_count": 5,
   "id": "15bc4fef16a9b60a",
   "metadata": {
    "ExecuteTime": {
     "end_time": "2023-08-27T13:32:46.676500441Z",
     "start_time": "2023-08-27T13:32:46.658014843Z"
    },
    "colab": {
     "base_uri": "https://localhost:8080/"
    },
    "id": "15bc4fef16a9b60a",
    "outputId": "39a59a5c-efdd-4e5c-a88b-0414c6e588c2"
   },
   "outputs": [
    {
     "name": "stdout",
     "output_type": "stream",
     "text": [
      "\n",
      "P(X/Y) =  [[0.25  0.25  0.25  0.25 ]\n",
      " [0.125 0.5   0.25  0.25 ]\n",
      " [0.125 0.25  0.5   0.5  ]\n",
      " [0.5   0.    0.    0.   ]]\n",
      "\n",
      "H(X/Y) =  1.625\n"
     ]
    }
   ],
   "source": [
    "PX_given_Y = joint/PY\n",
    "print(\"\\nP(X/Y) = \",PX_given_Y )\n",
    "mask = PX_given_Y > 0\n",
    "\n",
    "HX_given_Y = -np.sum(joint[mask] * np.log2(PX_given_Y[mask]))\n",
    "print(\"\\nH(X/Y) = \",HX_given_Y)"
   ]
  },
  {
   "cell_type": "code",
   "execution_count": 6,
   "id": "2be3be889085f0b2",
   "metadata": {
    "ExecuteTime": {
     "end_time": "2023-08-27T13:32:46.676808104Z",
     "start_time": "2023-08-27T13:32:46.658197501Z"
    },
    "colab": {
     "base_uri": "https://localhost:8080/"
    },
    "id": "2be3be889085f0b2",
    "outputId": "b3089cd3-0e6b-4972-d05d-afea80200a9d"
   },
   "outputs": [
    {
     "name": "stdout",
     "output_type": "stream",
     "text": [
      "Py_given_x =\n",
      " [[0.5   0.25  0.125 0.125]\n",
      " [0.25  0.5   0.125 0.125]\n",
      " [0.25  0.25  0.25  0.25 ]\n",
      " [1.    0.    0.    0.   ]]\n",
      "Hy_given_x =\n",
      " 1.375\n"
     ]
    }
   ],
   "source": [
    "PY_given_X=joint/PX\n",
    "print(\"Py_given_x =\\n\",PY_given_X)\n",
    "mask=PY_given_X>0\n",
    "\n",
    "HY_given_X=-np.sum(joint[mask]*np.log2(PY_given_X[mask]))\n",
    "print(\"Hy_given_x =\\n\",HY_given_X)"
   ]
  },
  {
   "cell_type": "code",
   "execution_count": 7,
   "id": "a858a6e788c98a73",
   "metadata": {
    "ExecuteTime": {
     "end_time": "2023-08-27T13:32:46.677090079Z",
     "start_time": "2023-08-27T13:32:46.658358595Z"
    },
    "colab": {
     "base_uri": "https://localhost:8080/"
    },
    "id": "a858a6e788c98a73",
    "outputId": "1d1c4eb7-b7d2-4414-a039-b04ad19472d5"
   },
   "outputs": [
    {
     "name": "stdout",
     "output_type": "stream",
     "text": [
      "\n",
      "I(XY) =  0.375\n",
      "\n",
      "I(XY) =  0.375\n",
      "\n",
      "I(XY) =  0.375\n",
      "\n",
      "I(XY) =  0.375\n"
     ]
    }
   ],
   "source": [
    "IXY = HX + HY - H_XY\n",
    "print(\"\\nI(XY) = \", IXY)\n",
    "IXY = HX - HX_given_Y\n",
    "print(\"\\nI(XY) = \", IXY)\n",
    "IXY = HY - HY_given_X\n",
    "print(\"\\nI(XY) = \", IXY)\n",
    "IXY = H_XY - HX_given_Y - HY_given_X\n",
    "print(\"\\nI(XY) = \", IXY)"
   ]
  }
 ],
 "metadata": {
  "colab": {
   "provenance": []
  },
  "kernelspec": {
   "display_name": "Python 3 (ipykernel)",
   "language": "python",
   "name": "python3"
  },
  "language_info": {
   "codemirror_mode": {
    "name": "ipython",
    "version": 3
   },
   "file_extension": ".py",
   "mimetype": "text/x-python",
   "name": "python",
   "nbconvert_exporter": "python",
   "pygments_lexer": "ipython3",
   "version": "3.11.3"
  }
 },
 "nbformat": 4,
 "nbformat_minor": 5
}
