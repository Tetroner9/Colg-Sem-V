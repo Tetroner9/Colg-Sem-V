{
 "cells": [
  {
   "cell_type": "code",
   "execution_count": 1,
   "id": "6d065571",
   "metadata": {
    "ExecuteTime": {
     "end_time": "2023-08-27T14:09:10.147401107Z",
     "start_time": "2023-08-27T14:09:10.075873131Z"
    }
   },
   "outputs": [
    {
     "data": {
      "text/plain": "'\\nName: Om Kadam\\nRoll No: 45\\nClass: TE-EXTC A\\nDivision: A\\nYear Of Study: TE\\nBranch: EXTC\\nDate: 24/08/2023\\nTime: 14:00\\n'"
     },
     "execution_count": 1,
     "metadata": {},
     "output_type": "execute_result"
    }
   ],
   "source": [
    "'''\n",
    "Name: Om Kadam\n",
    "Roll No: 45\n",
    "Class: TE-EXTC A\n",
    "Division: A\n",
    "Year Of Study: TE\n",
    "Branch: EXTC\n",
    "Date: 24/08/2023\n",
    "Time: 14:00\n",
    "'''"
   ]
  },
  {
   "cell_type": "markdown",
   "id": "c4dbe4d5",
   "metadata": {},
   "source": [
    "Problem Statement: Prove 4 DFT Properties"
   ]
  },
  {
   "cell_type": "code",
   "execution_count": 2,
   "id": "9d9625cf",
   "metadata": {
    "ExecuteTime": {
     "end_time": "2023-08-27T14:09:10.858735107Z",
     "start_time": "2023-08-27T14:09:10.116600023Z"
    }
   },
   "outputs": [],
   "source": [
    "#Importing inbuilt libraries\n",
    "import numpy as np\n",
    "import matplotlib.pyplot as plt"
   ]
  },
  {
   "cell_type": "markdown",
   "id": "51d45f42",
   "metadata": {},
   "source": [
    "1. Write a code to prove Linearity Property of DFT"
   ]
  },
  {
   "cell_type": "code",
   "execution_count": 3,
   "id": "814f6d4a",
   "metadata": {
    "ExecuteTime": {
     "end_time": "2023-08-27T14:09:15.504815647Z",
     "start_time": "2023-08-27T14:09:10.860578813Z"
    }
   },
   "outputs": [
    {
     "ename": "SyntaxError",
     "evalue": "invalid syntax (<string>, line 0)",
     "output_type": "error",
     "traceback": [
      "Traceback \u001B[0;36m(most recent call last)\u001B[0m:\n",
      "\u001B[0m  File \u001B[1;32m/usr/lib/python3.11/site-packages/IPython/core/interactiveshell.py:3508\u001B[0m in \u001B[1;35mrun_code\u001B[0m\n    exec(code_obj, self.user_global_ns, self.user_ns)\u001B[0m\n",
      "\u001B[0;36m  Cell \u001B[0;32mIn[3], line 2\u001B[0;36m\n\u001B[0;31m    x1 = eval(input(\"Enter x1(n) = \"))\u001B[0;36m\n",
      "\u001B[0;36m  File \u001B[0;32m<string>\u001B[0;36m\u001B[0m\n\u001B[0;31m    \u001B[0m\n\u001B[0m    ^\u001B[0m\n\u001B[0;31mSyntaxError\u001B[0m\u001B[0;31m:\u001B[0m invalid syntax\n"
     ]
    }
   ],
   "source": [
    "#Getting user-defined inputs and determining its length\n",
    "x1 = eval(input(\"Enter x1(n) = \"))\n",
    "L = len(x1)\n",
    "print('Length is = ', L, '\\n')\n",
    "x2 = eval(input(\"Enter x2(n) = \"))\n",
    "M = len(x1)\n",
    "print('Length is = ', M, '\\n')"
   ]
  },
  {
   "cell_type": "code",
   "execution_count": null,
   "id": "9d89ac66",
   "metadata": {
    "ExecuteTime": {
     "start_time": "2023-08-27T14:09:15.446757191Z"
    }
   },
   "outputs": [],
   "source": [
    "#Defining x3(n)\n",
    "x3 = np.add(x1,x2)\n",
    "print(x3)"
   ]
  },
  {
   "cell_type": "code",
   "execution_count": null,
   "id": "67be2253",
   "metadata": {
    "ExecuteTime": {
     "start_time": "2023-08-27T14:09:15.450956169Z"
    }
   },
   "outputs": [],
   "source": [
    "#Verification of Property\n",
    "X1 = np.fft.fft(x1)\n",
    "print(X1)\n",
    "X2 = np.fft.fft(x2)\n",
    "print(X2)"
   ]
  },
  {
   "cell_type": "code",
   "execution_count": null,
   "id": "5c4f47e9",
   "metadata": {
    "ExecuteTime": {
     "start_time": "2023-08-27T14:09:15.455083756Z"
    }
   },
   "outputs": [],
   "source": [
    "X3 = np.add(X1,X2)\n",
    "print(X3)"
   ]
  },
  {
   "cell_type": "code",
   "execution_count": null,
   "id": "875ebc8d",
   "metadata": {
    "ExecuteTime": {
     "start_time": "2023-08-27T14:09:15.459675122Z"
    }
   },
   "outputs": [],
   "source": [
    "Xresult = np.fft.ifft(X3)\n",
    "print(Xresult)"
   ]
  },
  {
   "cell_type": "code",
   "execution_count": null,
   "id": "83930e65",
   "metadata": {
    "ExecuteTime": {
     "start_time": "2023-08-27T14:09:15.502531493Z"
    }
   },
   "outputs": [],
   "source": [
    "if x3.all() == Xresult.all():\n",
    "    print('Verified')\n",
    "else:\n",
    "    print('Not Verified')"
   ]
  },
  {
   "cell_type": "markdown",
   "id": "34f70ccb",
   "metadata": {},
   "source": [
    "2. Write a code to implement Convolution Property of DFT"
   ]
  },
  {
   "cell_type": "code",
   "execution_count": null,
   "id": "9ecabe43",
   "metadata": {
    "ExecuteTime": {
     "start_time": "2023-08-27T14:09:15.502868035Z"
    }
   },
   "outputs": [],
   "source": [
    "#Getting user-defined inputs and determining its length\n",
    "x = eval(input(\"Enter x(n) = \"))\n",
    "L = len(x)\n",
    "print('Length is = ', L, '\\n')\n",
    "h = eval(input(\"Enter h(n) = \"))\n",
    "M = len(h)\n",
    "print('Length is = ', M, '\\n')\n",
    "N = max(L,M)"
   ]
  },
  {
   "cell_type": "code",
   "execution_count": null,
   "id": "df66064e",
   "metadata": {
    "ExecuteTime": {
     "start_time": "2023-08-27T14:09:15.503107286Z"
    }
   },
   "outputs": [],
   "source": [
    "#Circular Convolution for y(n)\n",
    "y = np.zeros(N)\n",
    "for n in range(N):\n",
    "    for m in range(N):\n",
    "        y[n] += x[m] * h[(n - m) % N]\n",
    "print(y)"
   ]
  },
  {
   "cell_type": "code",
   "execution_count": null,
   "id": "a380164e",
   "metadata": {
    "ExecuteTime": {
     "start_time": "2023-08-27T14:09:15.503279320Z"
    }
   },
   "outputs": [],
   "source": [
    "#Finding DFT of x(n) & h(n)\n",
    "X = np.fft.fft(x)\n",
    "print(X)\n",
    "H = np.fft.fft(h)\n",
    "print(H)"
   ]
  },
  {
   "cell_type": "code",
   "execution_count": null,
   "id": "05778436",
   "metadata": {
    "ExecuteTime": {
     "start_time": "2023-08-27T14:09:15.503458888Z"
    }
   },
   "outputs": [],
   "source": [
    "#Verification\n",
    "Y = np.multiply(X,H)\n",
    "print(Y)"
   ]
  },
  {
   "cell_type": "code",
   "execution_count": null,
   "id": "f3896440",
   "metadata": {
    "ExecuteTime": {
     "start_time": "2023-08-27T14:09:15.503648958Z"
    }
   },
   "outputs": [],
   "source": [
    "Yresult = np.fft.ifft(Y3)\n",
    "print(Yresult)"
   ]
  },
  {
   "cell_type": "code",
   "execution_count": null,
   "id": "06d47a64",
   "metadata": {
    "ExecuteTime": {
     "start_time": "2023-08-27T14:09:15.503837705Z"
    }
   },
   "outputs": [],
   "source": [
    "if y.all() == Yresult.all():\n",
    "    print('Verified')\n",
    "else:\n",
    "    print('Not Verified')"
   ]
  }
 ],
 "metadata": {
  "kernelspec": {
   "display_name": "Python 3 (ipykernel)",
   "language": "python",
   "name": "python3"
  },
  "language_info": {
   "codemirror_mode": {
    "name": "ipython",
    "version": 3
   },
   "file_extension": ".py",
   "mimetype": "text/x-python",
   "name": "python",
   "nbconvert_exporter": "python",
   "pygments_lexer": "ipython3",
   "version": "3.9.7"
  }
 },
 "nbformat": 4,
 "nbformat_minor": 5
}
