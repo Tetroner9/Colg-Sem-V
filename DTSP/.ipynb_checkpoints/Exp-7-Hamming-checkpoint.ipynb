{
 "cells": [
  {
   "cell_type": "markdown",
   "id": "ef81271c",
   "metadata": {},
   "source": [
    "```\n",
    "Name: Om Kadam\n",
    "Roll No: 45\n",
    "Sem: V\n",
    "Branch: EXTC\n",
    "Year of Study: TE\n",
    "Division: A\n",
    "Batch: TA-3\n",
    "Date: 31/08/2023\n",
    "Time: 14:00\n",
    "```"
   ]
  },
  {
   "cell_type": "markdown",
   "id": "506cd7b9",
   "metadata": {},
   "source": [
    "#### Problem Statement: Design a digital FIR LPF using Recntagular, Hanning, Hamming and Blackman Window"
   ]
  },
  {
   "cell_type": "code",
   "execution_count": 1,
   "id": "3295391a",
   "metadata": {},
   "outputs": [],
   "source": [
    "# Importing in-built libraries of python\n",
    "import numpy as np\n",
    "import matplotlib.pyplot as plt\n",
    "import scipy.signal as signal"
   ]
  },
  {
   "cell_type": "code",
   "execution_count": 6,
   "id": "60470940",
   "metadata": {
    "scrolled": true
   },
   "outputs": [
    {
     "name": "stdout",
     "output_type": "stream",
     "text": [
      "[ 0.   -0.   -0.    0.   -0.    0.    0.   -0.    0.   -0.   -0.01  0.01\n",
      " -0.01  0.    0.01 -0.02  0.02 -0.   -0.03  0.05 -0.04  0.    0.07 -0.16\n",
      "  0.22  0.75  0.22 -0.16  0.07  0.   -0.04  0.05 -0.03 -0.    0.02 -0.02\n",
      "  0.01  0.   -0.01  0.01 -0.01 -0.    0.   -0.    0.    0.   -0.    0.\n",
      " -0.   -0.    0.  ]\n"
     ]
    }
   ],
   "source": [
    "# Design of FIR LPF using Hamming Window\n",
    "N = 51 # Type - I\n",
    "b = signal.firwin(N, cutoff = 0.75, window = 'hamm', pass_zero = True)\n",
    "a = 1\n",
    "print(np.round(b, decimals = 2))"
   ]
  },
  {
   "cell_type": "code",
   "execution_count": 7,
   "id": "9d94a344",
   "metadata": {},
   "outputs": [
    {
     "data": {
      "text/plain": [
       "Text(0, 0.5, 'H(w)')"
      ]
     },
     "execution_count": 7,
     "metadata": {},
     "output_type": "execute_result"
    },
    {
     "data": {
      "image/png": "[encoded data removed]",
      "text/plain": [
       "<Figure size 720x288 with 1 Axes>"
      ]
     },
     "metadata": {
      "needs_background": "light"
     },
     "output_type": "display_data"
    }
   ],
   "source": [
    "W, h = signal.freqz(b,a)\n",
    "h_db = 20 * np.log10(abs(h))\n",
    "plt.figure (figsize = (10, 4))\n",
    "plt.plot (W/max(W), h_db)\n",
    "plt.grid()\n",
    "plt.title ('Om Digital LPF Hamming', fontsize = 15)\n",
    "plt.xlabel ('W', fontsize = 12)\n",
    "plt.ylabel ('H(w)', fontsize = 12)"
   ]
  }
 ],
 "metadata": {
  "kernelspec": {
   "display_name": "Python 3 (ipykernel)",
   "language": "python",
   "name": "python3"
  },
  "language_info": {
   "codemirror_mode": {
    "name": "ipython",
    "version": 3
   },
   "file_extension": ".py",
   "mimetype": "text/x-python",
   "name": "python",
   "nbconvert_exporter": "python",
   "pygments_lexer": "ipython3",
   "version": "3.11.5"
  }
 },
 "nbformat": 4,
 "nbformat_minor": 5
}
