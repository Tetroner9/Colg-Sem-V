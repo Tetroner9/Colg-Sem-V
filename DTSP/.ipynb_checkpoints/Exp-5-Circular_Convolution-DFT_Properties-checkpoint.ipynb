{
 "cells": [
  {
   "cell_type": "code",
   "execution_count": null,
   "id": "b6247a54",
   "metadata": {},
   "outputs": [],
   "source": [
    "'''\n",
    "Name: Om Kadam\n",
    "Roll No: 45\n",
    "Class: TE-EXTC A\n",
    "Division: A\n",
    "Year Of Study: TE\n",
    "Branch: EXTC\n",
    "Date: 24/08/2023\n",
    "Time: 14:00\n",
    "'''"
   ]
  },
  {
   "cell_type": "code",
   "execution_count": 1,
   "id": "eca0fc37",
   "metadata": {},
   "outputs": [],
   "source": [
    "#Importing inbuilt libraries\n",
    "import numpy as np        \n",
    "import matplotlib.pyplot as plt"
   ]
  },
  {
   "cell_type": "markdown",
   "id": "a6a55c41",
   "metadata": {},
   "source": [
    "### Circular Convolution Property"
   ]
  },
  {
   "cell_type": "code",
   "execution_count": 2,
   "id": "2f96f4bd",
   "metadata": {},
   "outputs": [
    {
     "name": "stdout",
     "output_type": "stream",
     "text": [
      "Enter x(n) = [1,2,3,4]\n",
      "Length is =  4 \n",
      "\n",
      "Enter h(n) = [4,1,2,3]\n",
      "Length is =  4 \n",
      "\n"
     ]
    }
   ],
   "source": [
    "#Getting user-defined inputs and determining its length\n",
    "x = eval(input(\"Enter x(n) = \"))\n",
    "L = len(x)\n",
    "print('Length is = ', L, '\\n')\n",
    "h = eval(input(\"Enter h(n) = \"))\n",
    "M = len(h)\n",
    "print('Length is = ', M, '\\n')\n",
    "N = max(L,M)"
   ]
  },
  {
   "cell_type": "code",
   "execution_count": 3,
   "id": "e07c1679",
   "metadata": {},
   "outputs": [
    {
     "name": "stdout",
     "output_type": "stream",
     "text": [
      "[20. 26. 28. 26.]\n"
     ]
    }
   ],
   "source": [
    "#Circular Convolution for y(n)\n",
    "y = np.zeros(N)\n",
    "for n in range(N):\n",
    "    for m in range(N):\n",
    "        y[n] += x[m] * h[(n - m) % N]\n",
    "print(y)"
   ]
  },
  {
   "cell_type": "code",
   "execution_count": 4,
   "id": "5b2c8677",
   "metadata": {},
   "outputs": [
    {
     "name": "stdout",
     "output_type": "stream",
     "text": [
      "[10.+0.j -2.+2.j -2.+0.j -2.-2.j]\n",
      "[10.+0.j  2.+2.j  2.+0.j  2.-2.j]\n"
     ]
    }
   ],
   "source": [
    "#Finding DFT of x(n) & h(n)\n",
    "X = np.fft.fft(x)\n",
    "print(X)\n",
    "H = np.fft.fft(h)\n",
    "print(H)"
   ]
  },
  {
   "cell_type": "code",
   "execution_count": 5,
   "id": "4bff345d",
   "metadata": {},
   "outputs": [
    {
     "name": "stdout",
     "output_type": "stream",
     "text": [
      "[100.+0.j  -8.+0.j  -4.+0.j  -8.+0.j]\n"
     ]
    }
   ],
   "source": [
    "#Verification\n",
    "Y = np.multiply(X,H)\n",
    "print(Y)"
   ]
  },
  {
   "cell_type": "code",
   "execution_count": 6,
   "id": "cc04be95",
   "metadata": {},
   "outputs": [
    {
     "name": "stdout",
     "output_type": "stream",
     "text": [
      "[0.+0.j 0.+0.j 0.+0.j 0.+0.j]\n"
     ]
    }
   ],
   "source": [
    "Y3 = np.zeros(N)\n",
    "Yresult = np.fft.ifft(Y3)\n",
    "print(Yresult)"
   ]
  },
  {
   "cell_type": "code",
   "execution_count": 7,
   "id": "b8951eaa",
   "metadata": {},
   "outputs": [
    {
     "name": "stdout",
     "output_type": "stream",
     "text": [
      "Not Verified\n"
     ]
    }
   ],
   "source": [
    "if y.all() == Yresult.all():\n",
    "    print('Verified')\n",
    "else:\n",
    "    print('Not Verified')"
   ]
  }
 ],
 "metadata": {
  "kernelspec": {
   "display_name": "Python 3 (ipykernel)",
   "language": "python",
   "name": "python3"
  },
  "language_info": {
   "codemirror_mode": {
    "name": "ipython",
    "version": 3
   },
   "file_extension": ".py",
   "mimetype": "text/x-python",
   "name": "python",
   "nbconvert_exporter": "python",
   "pygments_lexer": "ipython3",
   "version": "3.11.5"
  }
 },
 "nbformat": 4,
 "nbformat_minor": 5
}
