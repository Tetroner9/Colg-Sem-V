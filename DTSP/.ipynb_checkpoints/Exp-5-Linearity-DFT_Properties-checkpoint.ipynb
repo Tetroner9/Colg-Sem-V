{
 "cells": [
  {
   "cell_type": "code",
   "execution_count": null,
   "id": "6d065571",
   "metadata": {
    "ExecuteTime": {
     "end_time": "2023-10-05T06:48:12.740877738Z",
     "start_time": "2023-10-05T06:48:12.595372100Z"
    }
   },
   "outputs": [],
   "source": [
    "'''\n",
    "Name: Om Kadam\n",
    "Roll No: 45\n",
    "Class: TE-EXTC A\n",
    "Division: A\n",
    "Year Of Study: TE\n",
    "Branch: EXTC\n",
    "Date: 24/08/2023\n",
    "Time: 14:00\n",
    "'''"
   ]
  },
  {
   "cell_type": "markdown",
   "id": "c4dbe4d5",
   "metadata": {},
   "source": [
    "Problem Statement: Prove 4 DFT Properties"
   ]
  },
  {
   "cell_type": "code",
   "execution_count": 1,
   "id": "9d9625cf",
   "metadata": {
    "ExecuteTime": {
     "end_time": "2023-10-05T06:48:13.020361970Z",
     "start_time": "2023-10-05T06:48:12.644578628Z"
    }
   },
   "outputs": [],
   "source": [
    "#Importing inbuilt libraries\n",
    "import numpy as np        \n",
    "import matplotlib.pyplot as plt"
   ]
  },
  {
   "cell_type": "markdown",
   "id": "51d45f42",
   "metadata": {},
   "source": [
    "### Linearity Property"
   ]
  },
  {
   "cell_type": "code",
   "execution_count": 2,
   "id": "814f6d4a",
   "metadata": {
    "ExecuteTime": {
     "end_time": "2023-10-05T06:48:23.363680668Z",
     "start_time": "2023-10-05T06:48:13.018822128Z"
    }
   },
   "outputs": [
    {
     "name": "stdout",
     "output_type": "stream",
     "text": [
      "Enter x1(n) = [1,2,3,4]\n",
      "[1, 2, 3, 4]\n",
      "Length is =  4 \n",
      "\n",
      "Enter x2(n) = [4,1,2,3]\n",
      "[4, 1, 2, 3]\n",
      "Length is =  4 \n",
      "\n"
     ]
    }
   ],
   "source": [
    "#Getting user-defined inputs and determining its length\n",
    "x1 = eval(input(\"Enter x1(n) = \"))\n",
    "L = len(x1)\n",
    "print(x1)\n",
    "print('Length is = ', L, '\\n')\n",
    "x2 = eval(input(\"Enter x2(n) = \"))\n",
    "print(x2)\n",
    "M = len(x1)\n",
    "print('Length is = ', M, '\\n')"
   ]
  },
  {
   "cell_type": "code",
   "execution_count": 3,
   "id": "9d89ac66",
   "metadata": {
    "ExecuteTime": {
     "end_time": "2023-10-05T06:48:23.364184256Z",
     "start_time": "2023-10-05T06:48:23.275142456Z"
    }
   },
   "outputs": [
    {
     "name": "stdout",
     "output_type": "stream",
     "text": [
      "[5 3 5 7]\n"
     ]
    }
   ],
   "source": [
    "#Defining x3(n)\n",
    "x3 = np.add(x1,x2)\n",
    "print(x3)"
   ]
  },
  {
   "cell_type": "code",
   "execution_count": 4,
   "id": "67be2253",
   "metadata": {
    "ExecuteTime": {
     "end_time": "2023-10-05T06:48:23.364598365Z",
     "start_time": "2023-10-05T06:48:23.282312279Z"
    }
   },
   "outputs": [
    {
     "name": "stdout",
     "output_type": "stream",
     "text": [
      "[10.+0.j -2.+2.j -2.+0.j -2.-2.j]\n",
      "[10.+0.j  2.+2.j  2.+0.j  2.-2.j]\n"
     ]
    }
   ],
   "source": [
    "#Verification of Property\n",
    "X1 = np.fft.fft(x1)\n",
    "print(X1)\n",
    "X2 = np.fft.fft(x2)\n",
    "print(X2)"
   ]
  },
  {
   "cell_type": "code",
   "execution_count": 5,
   "id": "5c4f47e9",
   "metadata": {
    "ExecuteTime": {
     "end_time": "2023-10-05T06:48:23.364902690Z",
     "start_time": "2023-10-05T06:48:23.294472855Z"
    }
   },
   "outputs": [
    {
     "name": "stdout",
     "output_type": "stream",
     "text": [
      "[20.+0.j  0.+4.j  0.+0.j  0.-4.j]\n"
     ]
    }
   ],
   "source": [
    "X3 = np.add(X1,X2)\n",
    "print(X3)"
   ]
  },
  {
   "cell_type": "code",
   "execution_count": 6,
   "id": "875ebc8d",
   "metadata": {
    "ExecuteTime": {
     "end_time": "2023-10-05T06:48:23.366873739Z",
     "start_time": "2023-10-05T06:48:23.338052528Z"
    }
   },
   "outputs": [
    {
     "name": "stdout",
     "output_type": "stream",
     "text": [
      "[5.+0.j 3.+0.j 5.+0.j 7.+0.j]\n"
     ]
    }
   ],
   "source": [
    "Xresult = np.fft.ifft(X3)\n",
    "print(Xresult)"
   ]
  },
  {
   "cell_type": "code",
   "execution_count": 7,
   "id": "83930e65",
   "metadata": {
    "ExecuteTime": {
     "end_time": "2023-10-05T06:48:23.367287576Z",
     "start_time": "2023-10-05T06:48:23.338366667Z"
    }
   },
   "outputs": [
    {
     "name": "stdout",
     "output_type": "stream",
     "text": [
      "Verified\n"
     ]
    }
   ],
   "source": [
    "if x3.all() == Xresult.all():\n",
    "    print('Verified')\n",
    "else:\n",
    "    print('Not Verified')"
   ]
  }
 ],
 "metadata": {
  "kernelspec": {
   "display_name": "Python 3 (ipykernel)",
   "language": "python",
   "name": "python3"
  },
  "language_info": {
   "codemirror_mode": {
    "name": "ipython",
    "version": 3
   },
   "file_extension": ".py",
   "mimetype": "text/x-python",
   "name": "python",
   "nbconvert_exporter": "python",
   "pygments_lexer": "ipython3",
   "version": "3.11.5"
  }
 },
 "nbformat": 4,
 "nbformat_minor": 5
}
