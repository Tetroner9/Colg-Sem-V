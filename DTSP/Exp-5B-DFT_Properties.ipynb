{
 "cells": [
  {
   "cell_type": "code",
   "execution_count": null,
   "id": "6d065571",
   "metadata": {},
   "outputs": [],
   "source": [
    "'''\n",
    "Name: Om Kadam\n",
    "Roll No: 45\n",
    "Class: TE-EXTC A\n",
    "Division: A\n",
    "Year Of Study: TE\n",
    "Branch: EXTC\n",
    "Date: 24/08/2023\n",
    "Time: 14:00\n",
    "'''"
   ]
  },
  {
   "cell_type": "markdown",
   "id": "c4dbe4d5",
   "metadata": {},
   "source": [
    "Problem Statement: Prove 4 DFT Properties"
   ]
  },
  {
   "cell_type": "code",
   "execution_count": 4,
   "id": "9d9625cf",
   "metadata": {},
   "outputs": [],
   "source": [
    "#Importing inbuilt libraries\n",
    "import numpy as np\n",
    "import matplotlib.pyplot as plt"
   ]
  },
  {
   "cell_type": "markdown",
   "id": "51d45f42",
   "metadata": {},
   "source": [
    "1. Write a code to prove Circular Timeshift Property of DFT"
   ]
  },
  {
   "cell_type": "code",
   "execution_count": 16,
   "id": "814f6d4a",
   "metadata": {},
   "outputs": [
    {
     "name": "stdout",
     "output_type": "stream",
     "text": [
      "Enter x(n) = [1,3,2,5]\n",
      "Length is =  4 \n",
      "\n",
      "Enter x1(n) = [5,1,3,2]\n",
      "Length is =  4 \n",
      "\n"
     ]
    }
   ],
   "source": [
    "#Getting user-defined inputs and determining its length\n",
    "x = eval(input(\"Enter x(n) = \"))\n",
    "L = len(x)\n",
    "print('Length is = ', L, '\\n')\n",
    "x1 = eval(input(\"Enter x1(n) = \"))\n",
    "M = len(x1)\n",
    "print('Length is = ', M, '\\n')\n",
    "N = max(L,M)"
   ]
  },
  {
   "cell_type": "code",
   "execution_count": 17,
   "id": "f16fb947",
   "metadata": {},
   "outputs": [
    {
     "name": "stdout",
     "output_type": "stream",
     "text": [
      "[11.+0.j -1.+2.j -5.+0.j -1.-2.j]\n"
     ]
    }
   ],
   "source": [
    "X = np.fft.fft(x)\n",
    "print(X)"
   ]
  },
  {
   "cell_type": "code",
   "execution_count": 18,
   "id": "568ce099",
   "metadata": {},
   "outputs": [
    {
     "name": "stdout",
     "output_type": "stream",
     "text": [
      "[11.+0.j  2.+1.j  5.+0.j  2.-1.j]\n"
     ]
    }
   ],
   "source": [
    "m = 1\n",
    "Xr = np.zeros(N, complex)\n",
    "for k in range (N):\n",
    "    Xr[k] += X[k] * np.exp((-2j * np.pi * m * k) / N)\n",
    "print(np.round(Xr, decimals = 2))"
   ]
  },
  {
   "cell_type": "code",
   "execution_count": 19,
   "id": "5417ad6a",
   "metadata": {},
   "outputs": [
    {
     "name": "stdout",
     "output_type": "stream",
     "text": [
      "[11.+0.j  2.+1.j  5.+0.j  2.-1.j]\n"
     ]
    }
   ],
   "source": [
    "X1 = np.fft.fft(x1)\n",
    "print(X1)"
   ]
  },
  {
   "cell_type": "code",
   "execution_count": 20,
   "id": "9e113a32",
   "metadata": {},
   "outputs": [
    {
     "name": "stdout",
     "output_type": "stream",
     "text": [
      "Verified\n"
     ]
    }
   ],
   "source": [
    "if Xr.all() == X1.all():\n",
    "    print('Verified')\n",
    "else:\n",
    "    print('Not Verified')"
   ]
  },
  {
   "cell_type": "code",
   "execution_count": 21,
   "id": "0b07d943",
   "metadata": {},
   "outputs": [
    {
     "name": "stdout",
     "output_type": "stream",
     "text": [
      "Enter x1(n) = [2,5,1,3]\n",
      "Length is =  4 \n",
      "\n"
     ]
    }
   ],
   "source": [
    "x1 = eval(input(\"Enter x1(n) = \"))\n",
    "M = len(x1)\n",
    "print('Length is = ', M, '\\n')"
   ]
  },
  {
   "cell_type": "code",
   "execution_count": 22,
   "id": "a56ade5b",
   "metadata": {},
   "outputs": [
    {
     "name": "stdout",
     "output_type": "stream",
     "text": [
      "[11.+0.j  1.-2.j -5.-0.j  1.+2.j]\n"
     ]
    }
   ],
   "source": [
    "m = 2\n",
    "Xr = np.zeros(N, complex)\n",
    "for k in range (N):\n",
    "    Xr[k] += X[k] * np.exp((-2j * np.pi * m * k) / N)\n",
    "print(np.round(Xr, decimals = 2))"
   ]
  },
  {
   "cell_type": "code",
   "execution_count": 23,
   "id": "ad575c8c",
   "metadata": {},
   "outputs": [
    {
     "name": "stdout",
     "output_type": "stream",
     "text": [
      "[11.+0.j  1.-2.j -5.+0.j  1.+2.j]\n"
     ]
    }
   ],
   "source": [
    "X1 = np.fft.fft(x1)\n",
    "print(X1)"
   ]
  },
  {
   "cell_type": "code",
   "execution_count": 24,
   "id": "6303cd86",
   "metadata": {},
   "outputs": [
    {
     "name": "stdout",
     "output_type": "stream",
     "text": [
      "Verified\n"
     ]
    }
   ],
   "source": [
    "if Xr.all() == X1.all():\n",
    "    print('Verified')\n",
    "else:\n",
    "    print('Not Verified')"
   ]
  }
 ],
 "metadata": {
  "kernelspec": {
   "display_name": "Python 3 (ipykernel)",
   "language": "python",
   "name": "python3"
  },
  "language_info": {
   "codemirror_mode": {
    "name": "ipython",
    "version": 3
   },
   "file_extension": ".py",
   "mimetype": "text/x-python",
   "name": "python",
   "nbconvert_exporter": "python",
   "pygments_lexer": "ipython3",
   "version": "3.9.7"
  }
 },
 "nbformat": 4,
 "nbformat_minor": 5
}
