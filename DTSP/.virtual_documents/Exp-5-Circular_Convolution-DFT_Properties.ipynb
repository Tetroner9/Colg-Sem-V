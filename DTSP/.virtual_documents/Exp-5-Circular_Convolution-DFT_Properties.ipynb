'''
Name: Om Kadam
Roll No: 45
Class: TE-EXTC A
Division: A
Year Of Study: TE
Branch: EXTC
Date: 24/08/2023
Time: 14:00
'''


#Importing inbuilt libraries
import numpy as np        
import matplotlib.pyplot as plt





#Getting user-defined inputs and determining its length
x = eval(input("Enter x(n) = "))
L = len(x)
print('Length is = ', L, '\n')
h = eval(input("Enter h(n) = "))
M = len(h)
print('Length is = ', M, '\n')
N = max(L,M)


#Circular Convolution for y(n)
y = np.zeros(N)
for n in range(N):
    for m in range(N):
        y[n] += x[m] * h[(n - m) % N]
print(y)


#Finding DFT of x(n) & h(n)
X = np.fft.fft(x)
print(X)
H = np.fft.fft(h)
print(H)


#Verification
Y = np.multiply(X,H)
print(Y)


Y3 = np.zeros(N)
Yresult = np.fft.ifft(Y3)
print(Yresult)


if y.all() == Yresult.all():
    print('Verified')
else:
    print('Not Verified')
