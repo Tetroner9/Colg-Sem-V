{
 "cells": [
  {
   "cell_type": "code",
   "execution_count": 1,
   "id": "7ff3e379",
   "metadata": {
    "ExecuteTime": {
     "end_time": "2023-09-02T14:32:55.252980392Z",
     "start_time": "2023-09-02T14:32:55.234978544Z"
    }
   },
   "outputs": [
    {
     "data": {
      "text/plain": "'\\nName: Om Kadam\\nRoll No: 45\\nClass: TE-EXTC A\\nDivision: A\\nYear Of Study: TE\\nBranch: EXTC\\nDate: 24/08/2023\\nTime: 14:00\\n'"
     },
     "execution_count": 1,
     "metadata": {},
     "output_type": "execute_result"
    }
   ],
   "source": [
    "'''\n",
    "Name: Om Kadam\n",
    "Roll No: 45\n",
    "Class: TE-EXTC A\n",
    "Division: A\n",
    "Year Of Study: TE\n",
    "Branch: EXTC\n",
    "Date: 24/08/2023\n",
    "Time: 14:00\n",
    "'''"
   ]
  },
  {
   "cell_type": "markdown",
   "id": "c4dbe4d5",
   "metadata": {},
   "source": [
    "Problem Statement: Prove Time Reverse Property"
   ]
  },
  {
   "cell_type": "code",
   "execution_count": 2,
   "id": "9d9625cf",
   "metadata": {
    "ExecuteTime": {
     "end_time": "2023-09-02T14:32:55.770029438Z",
     "start_time": "2023-09-02T14:32:55.237092570Z"
    }
   },
   "outputs": [],
   "source": [
    "#Importing in-built libraries\n",
    "import numpy as np\n",
    "import matplotlib.pyplot as plt"
   ]
  },
  {
   "cell_type": "code",
   "execution_count": 3,
   "id": "814f6d4a",
   "metadata": {
    "ExecuteTime": {
     "end_time": "2023-09-02T14:33:09.114267737Z",
     "start_time": "2023-09-02T14:32:55.770403354Z"
    }
   },
   "outputs": [
    {
     "name": "stdout",
     "output_type": "stream",
     "text": [
      "Length is =  4 \n",
      "Length is =  4 \n"
     ]
    }
   ],
   "source": [
    "#Getting user-defined inputs and determining its length\n",
    "x = eval(input(\"Enter x(n) = \"))\n",
    "L = len(x)\n",
    "print('Length is = ', L, '\\n')\n",
    "x1 = eval(input(\"Enter x1(n) = \"))\n",
    "M = len(x1)\n",
    "print('Length is = ', M, '\\n')\n",
    "N = max(L,M)"
   ]
  },
  {
   "cell_type": "code",
   "execution_count": 4,
   "id": "f16fb947",
   "metadata": {
    "ExecuteTime": {
     "end_time": "2023-09-02T14:33:09.115040976Z",
     "start_time": "2023-09-02T14:33:08.999743434Z"
    }
   },
   "outputs": [
    {
     "name": "stdout",
     "output_type": "stream",
     "text": [
      "[16.+0.j -4.+4.j -4.+0.j -4.-4.j]\n"
     ]
    }
   ],
   "source": [
    "#Finding DFT of user-defined inputs\n",
    "X = np.fft.fft(x)\n",
    "print(X)"
   ]
  },
  {
   "cell_type": "code",
   "execution_count": 5,
   "id": "5417ad6a",
   "metadata": {
    "ExecuteTime": {
     "end_time": "2023-09-02T14:33:09.119471818Z",
     "start_time": "2023-09-02T14:33:09.005979117Z"
    }
   },
   "outputs": [
    {
     "name": "stdout",
     "output_type": "stream",
     "text": [
      "[16.+0.j -2.-2.j -8.+0.j -2.+2.j]\n"
     ]
    }
   ],
   "source": [
    "X1 = np.fft.fft(x1)\n",
    "print(X1)"
   ]
  },
  {
   "cell_type": "code",
   "execution_count": 6,
   "id": "4978316b",
   "metadata": {
    "ExecuteTime": {
     "end_time": "2023-09-02T14:33:09.120192711Z",
     "start_time": "2023-09-02T14:33:09.049401550Z"
    }
   },
   "outputs": [
    {
     "name": "stdout",
     "output_type": "stream",
     "text": [
      "[16.+0.j -4.-4.j -4.+0.j -4.+4.j]\n"
     ]
    }
   ],
   "source": [
    "# Time Reverse Property of DFT\n",
    "Y = np.zeros (N, complex)\n",
    "for k in range (N):\n",
    "    Y[k] += X [(-k % N)]\n",
    "print(Y)"
   ]
  },
  {
   "cell_type": "code",
   "execution_count": 7,
   "id": "9e113a32",
   "metadata": {
    "ExecuteTime": {
     "end_time": "2023-09-02T14:33:09.120812355Z",
     "start_time": "2023-09-02T14:33:09.049816006Z"
    }
   },
   "outputs": [
    {
     "name": "stdout",
     "output_type": "stream",
     "text": [
      "Verified\n"
     ]
    }
   ],
   "source": [
    "if Y.all() == X1.all():\n",
    "    print('Verified')\n",
    "else:\n",
    "    print('Not Verified')"
   ]
  }
 ],
 "metadata": {
  "kernelspec": {
   "display_name": "Python 3 (ipykernel)",
   "language": "python",
   "name": "python3"
  },
  "language_info": {
   "codemirror_mode": {
    "name": "ipython",
    "version": 3
   },
   "file_extension": ".py",
   "mimetype": "text/x-python",
   "name": "python",
   "nbconvert_exporter": "python",
   "pygments_lexer": "ipython3",
   "version": "3.11.5"
  }
 },
 "nbformat": 4,
 "nbformat_minor": 5
}
