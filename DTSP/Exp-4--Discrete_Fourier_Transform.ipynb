{
 "cells": [
  {
   "cell_type": "markdown",
   "id": "6f4fabec",
   "metadata": {},
   "source": [
    "Experiment No.4: Discrete Fourier Transform"
   ]
  },
  {
   "cell_type": "code",
   "execution_count": null,
   "id": "d1062ad1",
   "metadata": {},
   "outputs": [],
   "source": [
    "'''\n",
    "Name: Om Kadam\n",
    "Roll No: 45\n",
    "Class: TE-EXTC A\n",
    "Division: A\n",
    "Year Of Study: TE\n",
    "Branch: EXTC\n",
    "Date: 05/08/2023\n",
    "Time: 14:00\n",
    "'''"
   ]
  },
  {
   "cell_type": "markdown",
   "id": "f4d49e34",
   "metadata": {},
   "source": [
    "Problem Statement: Write a code to implement DFT & IDFT using Formula Method."
   ]
  },
  {
   "cell_type": "code",
   "execution_count": 2,
   "id": "35a55363",
   "metadata": {},
   "outputs": [],
   "source": [
    "#Importing Python Libraries\n",
    "import numpy as np\n",
    "import matplotlib.pyplot as plt"
   ]
  },
  {
   "cell_type": "code",
   "execution_count": 64,
   "id": "47358653",
   "metadata": {},
   "outputs": [
    {
     "name": "stdout",
     "output_type": "stream",
     "text": [
      "Enter input sequence x[n]= [1,2,3,4,5]\n",
      "Length of x[n] =  5\n"
     ]
    }
   ],
   "source": [
    "#Getting user-defined inputs\n",
    "x = eval(input(\"Enter input sequence x[n]= \"))\n",
    "L = len(x)\n",
    "print(\"Length of x[n] = \",L)\n",
    "N = 4"
   ]
  },
  {
   "cell_type": "code",
   "execution_count": 65,
   "id": "56b40fda",
   "metadata": {},
   "outputs": [],
   "source": [
    "#Callable Function for DFT\n",
    "X = np.zeros(N,complex)\n",
    "def DFT_TEA (x,N):\n",
    "    for k in range(N):\n",
    "        for n in range(N):\n",
    "            X[k]+= x[n] * np.exp((-2j * np.pi * n * k)/N)\n",
    "    return(X)"
   ]
  },
  {
   "cell_type": "code",
   "execution_count": 66,
   "id": "8ee18bbd",
   "metadata": {},
   "outputs": [
    {
     "name": "stdout",
     "output_type": "stream",
     "text": [
      "DFT cannot be computed\n"
     ]
    }
   ],
   "source": [
    "#Calling DFT Function\n",
    "X = np.zeros(N,complex)\n",
    "if N < L:\n",
    "    print(\"DFT cannot be computed\")\n",
    "else:\n",
    "    X = np.round(DFT_TEA(x,N),decimals = 2)\n",
    "   \n",
    "    print(X)"
   ]
  },
  {
   "cell_type": "code",
   "execution_count": 68,
   "id": "7546108b",
   "metadata": {},
   "outputs": [
    {
     "name": "stdout",
     "output_type": "stream",
     "text": [
      "Enter input sequence X[k]= [10,-2-2j,-2,-2+2j]\n",
      "Length of X[k] =  4\n"
     ]
    }
   ],
   "source": [
    "#Getting user-defined inputs\n",
    "X = eval(input(\"Enter input sequence X[k]= \"))\n",
    "L = len(X)\n",
    "print(\"Length of X[k] = \",L)\n",
    "N = 4"
   ]
  },
  {
   "cell_type": "code",
   "execution_count": 73,
   "id": "dadc4f17",
   "metadata": {
    "scrolled": true
   },
   "outputs": [],
   "source": [
    "#Callable Function for IDFT\n",
    "x = np.zeros(N,complex)\n",
    "def IDFT_TEA (X,N):\n",
    "    for n in range(N):\n",
    "        for k in range(N):\n",
    "            x[n]+= X[k] * np.exp((2j * np.pi * n * k)/N)/N\n",
    "    return(x)"
   ]
  },
  {
   "cell_type": "code",
   "execution_count": 79,
   "id": "a607cf56",
   "metadata": {},
   "outputs": [
    {
     "name": "stdout",
     "output_type": "stream",
     "text": [
      "[1.+0.j 4.-0.j 3.-0.j 2.+0.j]\n"
     ]
    }
   ],
   "source": [
    "#Calling IDFT Function\n",
    "x = np.zeros(N,complex)\n",
    "if N < L:\n",
    "    print(\"IDFT cannot be computed\")\n",
    "else:\n",
    "    x = np.round(IDFT_TEA(X,N),decimals = 2)\n",
    "    print(x)"
   ]
  },
  {
   "cell_type": "code",
   "execution_count": 80,
   "id": "cc180473",
   "metadata": {},
   "outputs": [
    {
     "name": "stdout",
     "output_type": "stream",
     "text": [
      "[1.+0.j 4.+0.j 3.+0.j 2.+0.j]\n"
     ]
    }
   ],
   "source": [
    "#Verification with inbuilt function\n",
    "X1 = [10,-2-2j,-2,-2+2j]\n",
    "print(np.fft.ifft(X1))"
   ]
  }
 ],
 "metadata": {
  "kernelspec": {
   "display_name": "Python 3 (ipykernel)",
   "language": "python",
   "name": "python3"
  },
  "language_info": {
   "codemirror_mode": {
    "name": "ipython",
    "version": 3
   },
   "file_extension": ".py",
   "mimetype": "text/x-python",
   "name": "python",
   "nbconvert_exporter": "python",
   "pygments_lexer": "ipython3",
   "version": "3.9.7"
  }
 },
 "nbformat": 4,
 "nbformat_minor": 5
}
