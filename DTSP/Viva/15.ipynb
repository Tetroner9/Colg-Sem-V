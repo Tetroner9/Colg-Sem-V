{
 "cells": [
  {
   "cell_type": "markdown",
   "source": [
    "![alternative text](Questions/Photos/15.png)"
   ],
   "metadata": {
    "collapsed": false
   },
   "id": "ee9a905b294fd1df"
  },
  {
   "cell_type": "markdown",
   "source": [
    "## a. [for b. make changes]"
   ],
   "metadata": {
    "collapsed": false
   },
   "id": "cb6ea1025f46206"
  },
  {
   "cell_type": "code",
   "execution_count": 1,
   "outputs": [],
   "source": [
    "#Importing inbuilt libraries\n",
    "import numpy as np        \n",
    "import matplotlib.pyplot as plt"
   ],
   "metadata": {
    "collapsed": false,
    "ExecuteTime": {
     "end_time": "2023-10-30T21:49:17.416669747Z",
     "start_time": "2023-10-30T21:49:17.164078345Z"
    }
   },
   "id": "268d2e3740703e24"
  },
  {
   "cell_type": "code",
   "execution_count": 2,
   "outputs": [
    {
     "name": "stdout",
     "output_type": "stream",
     "text": [
      "[1, 2, 3, 4]\n",
      "Length is =  4 \n",
      "[1, 1, 3, 2]\n",
      "Length is =  4 \n"
     ]
    }
   ],
   "source": [
    "#Getting user-defined inputs and determining its length\n",
    "x1 = eval(input(\"Enter x1(n) = \"))\n",
    "L = len(x1)\n",
    "print(x1)\n",
    "print('Length is = ', L, '\\n')\n",
    "x2 = eval(input(\"Enter x2(n) = \"))\n",
    "print(x2)\n",
    "M = len(x1)\n",
    "print('Length is = ', M, '\\n')"
   ],
   "metadata": {
    "collapsed": false,
    "ExecuteTime": {
     "end_time": "2023-10-30T21:49:54.585605953Z",
     "start_time": "2023-10-30T21:49:35.255084292Z"
    }
   },
   "id": "bab3a03179bc1fe7"
  },
  {
   "cell_type": "code",
   "execution_count": 3,
   "outputs": [
    {
     "name": "stdout",
     "output_type": "stream",
     "text": [
      "[2 3 6 6]\n"
     ]
    }
   ],
   "source": [
    "#Defining x3(n)\n",
    "x3 = np.add(x1,x2)\n",
    "print(x3)"
   ],
   "metadata": {
    "collapsed": false,
    "ExecuteTime": {
     "end_time": "2023-10-30T21:49:55.485622800Z",
     "start_time": "2023-10-30T21:49:55.437735576Z"
    }
   },
   "id": "b3ac288e9f7c00ad"
  },
  {
   "cell_type": "code",
   "execution_count": 4,
   "outputs": [
    {
     "name": "stdout",
     "output_type": "stream",
     "text": [
      "[10.+0.j -2.+2.j -2.+0.j -2.-2.j]\n",
      "[ 7.+0.j -2.+1.j  1.+0.j -2.-1.j]\n"
     ]
    }
   ],
   "source": [
    "#Verification of Property\n",
    "X1 = np.fft.fft(x1)\n",
    "print(X1)\n",
    "X2 = np.fft.fft(x2)\n",
    "print(X2)"
   ],
   "metadata": {
    "collapsed": false,
    "ExecuteTime": {
     "end_time": "2023-10-30T21:49:55.890357510Z",
     "start_time": "2023-10-30T21:49:55.882087236Z"
    }
   },
   "id": "b777666fadf1270c"
  },
  {
   "cell_type": "code",
   "execution_count": 5,
   "outputs": [
    {
     "name": "stdout",
     "output_type": "stream",
     "text": [
      "[17.+0.j -4.+3.j -1.+0.j -4.-3.j]\n"
     ]
    }
   ],
   "source": [
    "X3 = np.add(X1,X2)\n",
    "print(X3)"
   ],
   "metadata": {
    "collapsed": false,
    "ExecuteTime": {
     "end_time": "2023-10-30T21:49:56.274455301Z",
     "start_time": "2023-10-30T21:49:56.267523691Z"
    }
   },
   "id": "c74081b0a068ef39"
  },
  {
   "cell_type": "code",
   "execution_count": 6,
   "outputs": [
    {
     "name": "stdout",
     "output_type": "stream",
     "text": [
      "[2.+0.j 3.+0.j 6.+0.j 6.+0.j]\n"
     ]
    }
   ],
   "source": [
    "Xresult = np.fft.ifft(X3)\n",
    "print(Xresult)"
   ],
   "metadata": {
    "collapsed": false,
    "ExecuteTime": {
     "end_time": "2023-10-30T21:49:56.869703552Z",
     "start_time": "2023-10-30T21:49:56.865559244Z"
    }
   },
   "id": "fad06c07c5b3bee9"
  },
  {
   "cell_type": "code",
   "execution_count": 7,
   "outputs": [
    {
     "name": "stdout",
     "output_type": "stream",
     "text": [
      "Verified\n"
     ]
    }
   ],
   "source": [
    "if x3.all() == Xresult.all():\n",
    "    print('Verified')\n",
    "else:\n",
    "    print('Not Verified')"
   ],
   "metadata": {
    "collapsed": false,
    "ExecuteTime": {
     "end_time": "2023-10-30T21:49:57.326326565Z",
     "start_time": "2023-10-30T21:49:57.319569314Z"
    }
   },
   "id": "21b5860f065f258a"
  },
  {
   "cell_type": "code",
   "execution_count": null,
   "outputs": [],
   "source": [],
   "metadata": {
    "collapsed": false
   },
   "id": "2d840b19bcdcf4e9"
  }
 ],
 "metadata": {
  "kernelspec": {
   "display_name": "Python 3",
   "language": "python",
   "name": "python3"
  },
  "language_info": {
   "codemirror_mode": {
    "name": "ipython",
    "version": 2
   },
   "file_extension": ".py",
   "mimetype": "text/x-python",
   "name": "python",
   "nbconvert_exporter": "python",
   "pygments_lexer": "ipython2",
   "version": "2.7.6"
  }
 },
 "nbformat": 4,
 "nbformat_minor": 5
}
