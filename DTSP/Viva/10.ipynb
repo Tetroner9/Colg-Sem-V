{
 "cells": [
  {
   "cell_type": "markdown",
   "source": [
    "![alternative text](Questions/Photos/10.png)"
   ],
   "metadata": {
    "collapsed": false
   },
   "id": "48ace6bb39c2a85d"
  },
  {
   "cell_type": "markdown",
   "source": [
    "## a. [for b. make changes in x(n) & h(n)]"
   ],
   "metadata": {
    "collapsed": false
   },
   "id": "e1a1d2eda1725c8b"
  },
  {
   "cell_type": "code",
   "execution_count": 1,
   "outputs": [],
   "source": [
    "import numpy as np\n",
    "import matplotlib.pyplot as plt"
   ],
   "metadata": {
    "collapsed": false,
    "ExecuteTime": {
     "end_time": "2023-10-30T21:16:17.002047387Z",
     "start_time": "2023-10-30T21:16:16.750923729Z"
    }
   },
   "id": "341a1385f8efb870"
  },
  {
   "cell_type": "code",
   "execution_count": 2,
   "outputs": [
    {
     "name": "stdout",
     "output_type": "stream",
     "text": [
      "x(n) =  [1, 2, 3, 4]\n",
      "h(n) =  [1, 1, 3, 2]\n"
     ]
    }
   ],
   "source": [
    "x = eval(input(\"Enter first sequence x(n) = \"))\n",
    "h = eval(input(\"Enter second sequence h(n) = \"))\n",
    "print(\"x(n) = \",x)\n",
    "print(\"h(n) = \",h)"
   ],
   "metadata": {
    "collapsed": false,
    "ExecuteTime": {
     "end_time": "2023-10-30T21:16:34.328127298Z",
     "start_time": "2023-10-30T21:16:18.438576731Z"
    }
   },
   "id": "ba2ef0e9050cb3af"
  },
  {
   "cell_type": "code",
   "execution_count": 3,
   "outputs": [
    {
     "name": "stdout",
     "output_type": "stream",
     "text": [
      "4\n"
     ]
    }
   ],
   "source": [
    "L = len(x)\n",
    "M = len(h)\n",
    "N = max(L,M)\n",
    "print(N)"
   ],
   "metadata": {
    "collapsed": false,
    "ExecuteTime": {
     "end_time": "2023-10-30T21:16:36.762293222Z",
     "start_time": "2023-10-30T21:16:36.744066464Z"
    }
   },
   "id": "11f828728f6ef246"
  },
  {
   "cell_type": "code",
   "execution_count": 4,
   "outputs": [
    {
     "name": "stdout",
     "output_type": "stream",
     "text": [
      "[1. 2. 3. 4.]\n",
      "[1. 1. 3. 2.]\n"
     ]
    }
   ],
   "source": [
    "#Zero Padding sequence of x(n) & h(n)\n",
    "xp = np.append(x,np.zeros(N-L))\n",
    "hp = np.append(h,np.zeros(N-M))\n",
    "print(xp)\n",
    "print(hp)"
   ],
   "metadata": {
    "collapsed": false,
    "ExecuteTime": {
     "end_time": "2023-10-30T21:16:37.445867529Z",
     "start_time": "2023-10-30T21:16:37.418696174Z"
    }
   },
   "id": "9c9743b0cedd6ed7"
  },
  {
   "cell_type": "code",
   "execution_count": 5,
   "outputs": [
    {
     "name": "stdout",
     "output_type": "stream",
     "text": [
      "[1.0, 1.0, 3.0, 2.0]\n"
     ]
    }
   ],
   "source": [
    "arr_1 = np.array(hp)\n",
    "h1 = arr_1.tolist()\n",
    "print(h1)"
   ],
   "metadata": {
    "collapsed": false,
    "ExecuteTime": {
     "end_time": "2023-10-30T21:16:38.049619536Z",
     "start_time": "2023-10-30T21:16:38.046773292Z"
    }
   },
   "id": "e9398292692dd3e6"
  },
  {
   "cell_type": "code",
   "execution_count": 6,
   "outputs": [
    {
     "name": "stdout",
     "output_type": "stream",
     "text": [
      "[2.0, 3.0, 1.0, 1.0]\n"
     ]
    }
   ],
   "source": [
    "#Time Reverse Signal\n",
    "h1.reverse()\n",
    "print(h1)"
   ],
   "metadata": {
    "collapsed": false,
    "ExecuteTime": {
     "end_time": "2023-10-30T21:16:38.520034646Z",
     "start_time": "2023-10-30T21:16:38.513610880Z"
    }
   },
   "id": "c8b94bbcbade2c1e"
  },
  {
   "cell_type": "code",
   "execution_count": 7,
   "outputs": [
    {
     "name": "stdout",
     "output_type": "stream",
     "text": [
      "[1. 2. 3. 1.]\n",
      "[18. 21. 16. 15.]\n"
     ]
    }
   ],
   "source": [
    "#Roll by 1 unit\n",
    "y = np.zeros(N)\n",
    "Y = np.zeros(N)\n",
    "H1 = np.roll(h1,1)\n",
    "print(H1)\n",
    "for i in range(N):\n",
    "    y1 = H1 * np.transpose(xp)\n",
    "    y = np.sum(y1)\n",
    "    H1 = np.roll(H1,1)\n",
    "    Y[i] = y\n",
    "print(Y)"
   ],
   "metadata": {
    "collapsed": false,
    "ExecuteTime": {
     "end_time": "2023-10-30T21:16:38.971322590Z",
     "start_time": "2023-10-30T21:16:38.964072953Z"
    }
   },
   "id": "1666dc29494dbf99"
  },
  {
   "cell_type": "code",
   "execution_count": 8,
   "outputs": [
    {
     "data": {
      "text/plain": "Text(0.5, 1.0, 'Om Kadam')"
     },
     "execution_count": 8,
     "metadata": {},
     "output_type": "execute_result"
    },
    {
     "data": {
      "text/plain": "<Figure size 640x480 with 1 Axes>",
      "image/png": "[encoded data removed]"
     },
     "metadata": {},
     "output_type": "display_data"
    }
   ],
   "source": [
    "plt.stem(Y,linefmt = 'red')\n",
    "plt.xlabel('Discrete Time Variable n',fontsize = 15)\n",
    "plt.ylabel('Circular Convolution Sum',fontsize = 15)\n",
    "plt.title('Om Kadam', fontsize = 12)"
   ],
   "metadata": {
    "collapsed": false,
    "ExecuteTime": {
     "end_time": "2023-10-30T21:16:40.132482488Z",
     "start_time": "2023-10-30T21:16:39.800970567Z"
    }
   },
   "id": "a339b9ecbcf9b3f9"
  },
  {
   "cell_type": "code",
   "execution_count": null,
   "outputs": [],
   "source": [],
   "metadata": {
    "collapsed": false
   },
   "id": "fc4012cac258cb53"
  }
 ],
 "metadata": {
  "kernelspec": {
   "display_name": "Python 3",
   "language": "python",
   "name": "python3"
  },
  "language_info": {
   "codemirror_mode": {
    "name": "ipython",
    "version": 2
   },
   "file_extension": ".py",
   "mimetype": "text/x-python",
   "name": "python",
   "nbconvert_exporter": "python",
   "pygments_lexer": "ipython2",
   "version": "2.7.6"
  }
 },
 "nbformat": 4,
 "nbformat_minor": 5
}
