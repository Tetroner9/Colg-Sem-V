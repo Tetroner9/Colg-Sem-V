{
 "cells": [
  {
   "cell_type": "markdown",
   "source": [
    "![alternative text](Questions/Photos/12.png)"
   ],
   "metadata": {
    "collapsed": false
   },
   "id": "3e17b9d5fcdc7bf1"
  },
  {
   "cell_type": "markdown",
   "source": [
    "## a."
   ],
   "metadata": {
    "collapsed": false
   },
   "id": "554eff37b7a82ca2"
  },
  {
   "cell_type": "code",
   "execution_count": 64,
   "outputs": [],
   "source": [
    "#Importing Python Libraries\n",
    "import numpy as np"
   ],
   "metadata": {
    "collapsed": false,
    "ExecuteTime": {
     "end_time": "2023-10-30T21:39:31.912962329Z",
     "start_time": "2023-10-30T21:39:31.864768212Z"
    }
   },
   "id": "c93a92ac88aaa6a8"
  },
  {
   "cell_type": "code",
   "execution_count": 65,
   "outputs": [
    {
     "name": "stdout",
     "output_type": "stream",
     "text": [
      "Length of x[n] =  2\n"
     ]
    }
   ],
   "source": [
    "#Getting user-defined inputs\n",
    "x = eval(input(\"Enter input sequence x[n]= \"))\n",
    "L = len(x)\n",
    "print(\"Length of x[n] = \",L)\n",
    "N = 2"
   ],
   "metadata": {
    "collapsed": false,
    "ExecuteTime": {
     "end_time": "2023-10-30T21:39:35.067059293Z",
     "start_time": "2023-10-30T21:39:31.907503005Z"
    }
   },
   "id": "2535e4c2ab065a9f"
  },
  {
   "cell_type": "code",
   "execution_count": 66,
   "outputs": [],
   "source": [
    "#Callable Function for DFT\n",
    "X = np.zeros(N,complex)\n",
    "def DFT_TEA (x,N):\n",
    "    for k in range(N):\n",
    "        for n in range(N):\n",
    "            X[k]+= x[n] * np.exp((-2j * np.pi * n * k)/N)\n",
    "    return(X)"
   ],
   "metadata": {
    "collapsed": false,
    "ExecuteTime": {
     "end_time": "2023-10-30T21:39:35.078940418Z",
     "start_time": "2023-10-30T21:39:35.047007424Z"
    }
   },
   "id": "7657cc09a5392d26"
  },
  {
   "cell_type": "code",
   "execution_count": 67,
   "outputs": [
    {
     "name": "stdout",
     "output_type": "stream",
     "text": [
      "[ 3.+0.j -1.-0.j]\n"
     ]
    }
   ],
   "source": [
    "#Calling DFT Function\n",
    "X = np.zeros(N,complex)\n",
    "if N < L:\n",
    "    print(\"DFT cannot be computed\")\n",
    "else:\n",
    "    X = np.round(DFT_TEA(x,N),decimals = 2)\n",
    "   \n",
    "    print(X)"
   ],
   "metadata": {
    "collapsed": false,
    "ExecuteTime": {
     "end_time": "2023-10-30T21:39:35.080051113Z",
     "start_time": "2023-10-30T21:39:35.051977728Z"
    }
   },
   "id": "4cc35a43805c6cdc"
  },
  {
   "cell_type": "code",
   "execution_count": 68,
   "outputs": [
    {
     "name": "stdout",
     "output_type": "stream",
     "text": [
      "[1.+0.j 2.+0.j]\n",
      "[1, 2]\n"
     ]
    }
   ],
   "source": [
    "#Verification with inbuilt function\n",
    "X1 = X\n",
    "print(np.fft.ifft(X1))\n",
    "print(x)"
   ],
   "metadata": {
    "collapsed": false,
    "ExecuteTime": {
     "end_time": "2023-10-30T21:39:35.113029553Z",
     "start_time": "2023-10-30T21:39:35.065464980Z"
    }
   },
   "id": "af8daf65ed4a1796"
  },
  {
   "cell_type": "markdown",
   "source": [
    "## b."
   ],
   "metadata": {
    "collapsed": false
   },
   "id": "6908e958540bef10"
  },
  {
   "cell_type": "code",
   "execution_count": 75,
   "outputs": [
    {
     "name": "stdout",
     "output_type": "stream",
     "text": [
      "[(1+1j), (2+1j), (3+3j), (4+4j)]\n",
      "Length of X[k] =  4\n"
     ]
    }
   ],
   "source": [
    "#Getting user-defined inputs\n",
    "X = eval(input(\"Enter input sequence X[k]= \"))\n",
    "L = len(X)\n",
    "print(X)\n",
    "print(\"Length of X[k] = \",L)\n",
    "N = 4"
   ],
   "metadata": {
    "collapsed": false,
    "ExecuteTime": {
     "end_time": "2023-10-30T21:40:58.141972227Z",
     "start_time": "2023-10-30T21:40:56.348857150Z"
    }
   },
   "id": "8d6691cdcb9c7542"
  },
  {
   "cell_type": "code",
   "execution_count": 76,
   "outputs": [],
   "source": [
    "#Callable Function for IDFT\n",
    "x = np.zeros(N,complex)\n",
    "def IDFT_TEA (X,N):\n",
    "    for n in range(N):\n",
    "        for k in range(N):\n",
    "            x[n]+= X[k] * np.exp((2j * np.pi * n * k)/N)/N\n",
    "    return(x)"
   ],
   "metadata": {
    "collapsed": false,
    "ExecuteTime": {
     "end_time": "2023-10-30T21:40:58.809742779Z",
     "start_time": "2023-10-30T21:40:58.804863109Z"
    }
   },
   "id": "65a9cbc711de8a75"
  },
  {
   "cell_type": "code",
   "execution_count": 77,
   "outputs": [
    {
     "name": "stdout",
     "output_type": "stream",
     "text": [
      "[ 2.5 +2.25j  0.25-1.j   -0.5 -0.25j -1.25+0.j  ]\n"
     ]
    }
   ],
   "source": [
    "#Calling IDFT Function\n",
    "x = np.zeros(N,complex)\n",
    "if N < L:\n",
    "    print(\"IDFT cannot be computed\")\n",
    "else:\n",
    "    x = np.round(IDFT_TEA(X,N),decimals = 2)\n",
    "    print(x)"
   ],
   "metadata": {
    "collapsed": false,
    "ExecuteTime": {
     "end_time": "2023-10-30T21:40:59.226618226Z",
     "start_time": "2023-10-30T21:40:59.223426790Z"
    }
   },
   "id": "8187924f48c3e3d"
  },
  {
   "cell_type": "code",
   "execution_count": 78,
   "outputs": [
    {
     "name": "stdout",
     "output_type": "stream",
     "text": [
      "[1.+1.j 2.+1.j 3.+3.j 4.+4.j]\n",
      "[(1+1j), (2+1j), (3+3j), (4+4j)]\n"
     ]
    }
   ],
   "source": [
    "#Verification with inbuilt function\n",
    "X2 = x\n",
    "print(np.fft.fft(X2))\n",
    "print(X)"
   ],
   "metadata": {
    "collapsed": false,
    "ExecuteTime": {
     "end_time": "2023-10-30T21:40:59.806136583Z",
     "start_time": "2023-10-30T21:40:59.749141466Z"
    }
   },
   "id": "60551923a0edec79"
  }
 ],
 "metadata": {
  "kernelspec": {
   "display_name": "Python 3",
   "language": "python",
   "name": "python3"
  },
  "language_info": {
   "codemirror_mode": {
    "name": "ipython",
    "version": 2
   },
   "file_extension": ".py",
   "mimetype": "text/x-python",
   "name": "python",
   "nbconvert_exporter": "python",
   "pygments_lexer": "ipython2",
   "version": "2.7.6"
  }
 },
 "nbformat": 4,
 "nbformat_minor": 5
}
