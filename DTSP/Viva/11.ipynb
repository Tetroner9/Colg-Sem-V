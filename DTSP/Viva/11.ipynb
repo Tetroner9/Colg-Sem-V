{
 "cells": [
  {
   "cell_type": "markdown",
   "source": [
    "![alternative text](Questions/Photos/11.png)"
   ],
   "metadata": {
    "collapsed": false
   },
   "id": "b57edc2ac9ef57b5"
  },
  {
   "cell_type": "markdown",
   "source": [
    "## a. [for b. make changes]"
   ],
   "metadata": {
    "collapsed": false
   },
   "id": "a08ae87783eeb254"
  },
  {
   "cell_type": "code",
   "execution_count": 2,
   "outputs": [],
   "source": [
    "#Importing Python Libraries\n",
    "import numpy as np"
   ],
   "metadata": {
    "collapsed": false,
    "ExecuteTime": {
     "end_time": "2023-10-30T21:18:39.681543668Z",
     "start_time": "2023-10-30T21:18:39.639495088Z"
    }
   },
   "id": "da3e928ecc028dc7"
  },
  {
   "cell_type": "code",
   "execution_count": 3,
   "outputs": [
    {
     "name": "stdout",
     "output_type": "stream",
     "text": [
      "Length of x[n] =  4\n"
     ]
    }
   ],
   "source": [
    "#Getting user-defined inputs\n",
    "x = eval(input(\"Enter input sequence x[n]= \"))\n",
    "L = len(x)\n",
    "print(\"Length of x[n] = \",L)\n",
    "N = 4"
   ],
   "metadata": {
    "collapsed": false,
    "ExecuteTime": {
     "end_time": "2023-10-30T21:18:50.230241262Z",
     "start_time": "2023-10-30T21:18:42.374779789Z"
    }
   },
   "id": "c6ff840c9c023954"
  },
  {
   "cell_type": "code",
   "execution_count": 4,
   "outputs": [],
   "source": [
    "#Callable Function for DFT\n",
    "X = np.zeros(N,complex)\n",
    "def DFT_TEA (x,N):\n",
    "    for k in range(N):\n",
    "        for n in range(N):\n",
    "            X[k]+= x[n] * np.exp((-2j * np.pi * n * k)/N)\n",
    "    return(X)"
   ],
   "metadata": {
    "collapsed": false,
    "ExecuteTime": {
     "end_time": "2023-10-30T21:18:51.784957454Z",
     "start_time": "2023-10-30T21:18:51.776189497Z"
    }
   },
   "id": "b17e9d9027aacf80"
  },
  {
   "cell_type": "code",
   "execution_count": 5,
   "outputs": [
    {
     "name": "stdout",
     "output_type": "stream",
     "text": [
      "[ 3.+0.j -1.-0.j  3.+0.j -1.-0.j]\n"
     ]
    }
   ],
   "source": [
    "#Calling DFT Function\n",
    "X = np.zeros(N,complex)\n",
    "if N < L:\n",
    "    print(\"DFT cannot be computed\")\n",
    "else:\n",
    "    X = np.round(DFT_TEA(x,N),decimals = 2)\n",
    "   \n",
    "    print(X)"
   ],
   "metadata": {
    "collapsed": false,
    "ExecuteTime": {
     "end_time": "2023-10-30T21:18:52.803445669Z",
     "start_time": "2023-10-30T21:18:52.751183780Z"
    }
   },
   "id": "a233157fa443d67d"
  },
  {
   "cell_type": "code",
   "execution_count": 7,
   "outputs": [
    {
     "name": "stdout",
     "output_type": "stream",
     "text": [
      "[1.+0.j 0.+0.j 2.+0.j 0.+0.j]\n",
      "[1, 0, 2, 0]\n"
     ]
    }
   ],
   "source": [
    "#Verification with inbuilt function\n",
    "X1 = [ 3.+0.j, -1.-0.j,  3.+0.j, -1.-0.j]\n",
    "print(np.fft.ifft(X1))\n",
    "print(x)"
   ],
   "metadata": {
    "collapsed": false,
    "ExecuteTime": {
     "end_time": "2023-10-30T21:20:31.597957469Z",
     "start_time": "2023-10-30T21:20:31.552130310Z"
    }
   },
   "id": "b9096e06e8d4ea95"
  }
 ],
 "metadata": {
  "kernelspec": {
   "display_name": "Python 3",
   "language": "python",
   "name": "python3"
  },
  "language_info": {
   "codemirror_mode": {
    "name": "ipython",
    "version": 2
   },
   "file_extension": ".py",
   "mimetype": "text/x-python",
   "name": "python",
   "nbconvert_exporter": "python",
   "pygments_lexer": "ipython2",
   "version": "2.7.6"
  }
 },
 "nbformat": 4,
 "nbformat_minor": 5
}
