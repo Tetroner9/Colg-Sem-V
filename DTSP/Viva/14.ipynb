{
 "cells": [
  {
   "cell_type": "markdown",
   "source": [
    "![alternative text](Questions/Photos/14.png)"
   ],
   "metadata": {
    "collapsed": false
   },
   "id": "402d1a57f9bf0a81"
  },
  {
   "cell_type": "markdown",
   "source": [
    "## a. [for b. make changes]"
   ],
   "metadata": {
    "collapsed": false
   },
   "id": "f4431003e3713e0a"
  },
  {
   "cell_type": "code",
   "execution_count": 11,
   "outputs": [],
   "source": [
    "#Importing inbuilt libraries\n",
    "import numpy as np        \n",
    "import matplotlib.pyplot as plt"
   ],
   "metadata": {
    "collapsed": false,
    "ExecuteTime": {
     "end_time": "2023-10-30T21:50:28.011559974Z",
     "start_time": "2023-10-30T21:50:27.953812717Z"
    }
   },
   "id": "9cbcf49d3d741071"
  },
  {
   "cell_type": "code",
   "execution_count": 12,
   "outputs": [
    {
     "name": "stdout",
     "output_type": "stream",
     "text": [
      "Length is =  4 \n",
      "Length is =  4 \n"
     ]
    }
   ],
   "source": [
    "#Getting user-defined inputs and determining its length\n",
    "x = eval(input(\"Enter x(n) = \"))\n",
    "L = len(x)\n",
    "print('Length is = ', L, '\\n')\n",
    "h = eval(input(\"Enter h(n) = \"))\n",
    "M = len(h)\n",
    "print('Length is = ', M, '\\n')\n",
    "N = max(L,M)"
   ],
   "metadata": {
    "collapsed": false,
    "ExecuteTime": {
     "end_time": "2023-10-30T21:50:36.445966350Z",
     "start_time": "2023-10-30T21:50:27.994123764Z"
    }
   },
   "id": "eec84ff26b69d23e"
  },
  {
   "cell_type": "code",
   "execution_count": 13,
   "outputs": [
    {
     "name": "stdout",
     "output_type": "stream",
     "text": [
      "[18. 21. 16. 15.]\n"
     ]
    }
   ],
   "source": [
    "#Circular Convolution for y(n)\n",
    "y = np.zeros(N)\n",
    "for n in range(N):\n",
    "    for m in range(N):\n",
    "        y[n] += x[m] * h[(n - m) % N]\n",
    "print(y)"
   ],
   "metadata": {
    "collapsed": false,
    "ExecuteTime": {
     "end_time": "2023-10-30T21:50:36.446236948Z",
     "start_time": "2023-10-30T21:50:36.427413421Z"
    }
   },
   "id": "5f8c36c3de80c9ba"
  },
  {
   "cell_type": "code",
   "execution_count": 14,
   "outputs": [
    {
     "name": "stdout",
     "output_type": "stream",
     "text": [
      "[10.+0.j -2.+2.j -2.+0.j -2.-2.j]\n",
      "[ 7.+0.j -2.+1.j  1.+0.j -2.-1.j]\n"
     ]
    }
   ],
   "source": [
    "#Finding DFT of x(n) & h(n)\n",
    "X = np.fft.fft(x)\n",
    "print(X)\n",
    "H = np.fft.fft(h)\n",
    "print(H)"
   ],
   "metadata": {
    "collapsed": false,
    "ExecuteTime": {
     "end_time": "2023-10-30T21:50:36.446376850Z",
     "start_time": "2023-10-30T21:50:36.427528887Z"
    }
   },
   "id": "e65d97da759829b"
  },
  {
   "cell_type": "code",
   "execution_count": 15,
   "outputs": [
    {
     "name": "stdout",
     "output_type": "stream",
     "text": [
      "[70.+0.j  2.-6.j -2.+0.j  2.+6.j]\n"
     ]
    }
   ],
   "source": [
    "#Verification\n",
    "Y = np.multiply(X,H)\n",
    "print(Y)"
   ],
   "metadata": {
    "collapsed": false,
    "ExecuteTime": {
     "end_time": "2023-10-30T21:50:36.446486823Z",
     "start_time": "2023-10-30T21:50:36.427655886Z"
    }
   },
   "id": "c03a07044351f5e"
  },
  {
   "cell_type": "code",
   "execution_count": 16,
   "outputs": [
    {
     "name": "stdout",
     "output_type": "stream",
     "text": [
      "[18.+0.j 21.+0.j 16.+0.j 15.+0.j]\n"
     ]
    }
   ],
   "source": [
    "# Y3 = np.zeros(N)\n",
    "Yresult = np.fft.ifft(Y)\n",
    "print(Yresult)"
   ],
   "metadata": {
    "collapsed": false,
    "ExecuteTime": {
     "end_time": "2023-10-30T21:50:36.446602728Z",
     "start_time": "2023-10-30T21:50:36.427719373Z"
    }
   },
   "id": "ba4aaa4d39345058"
  },
  {
   "cell_type": "code",
   "execution_count": 17,
   "outputs": [
    {
     "name": "stdout",
     "output_type": "stream",
     "text": [
      "Verified\n"
     ]
    }
   ],
   "source": [
    "if y.all() == Yresult.all():\n",
    "    print('Verified')\n",
    "else:\n",
    "    print('Not Verified')"
   ],
   "metadata": {
    "collapsed": false,
    "ExecuteTime": {
     "end_time": "2023-10-30T21:50:36.446730251Z",
     "start_time": "2023-10-30T21:50:36.432506180Z"
    }
   },
   "id": "6768945c466e11d0"
  }
 ],
 "metadata": {
  "kernelspec": {
   "display_name": "Python 3",
   "language": "python",
   "name": "python3"
  },
  "language_info": {
   "codemirror_mode": {
    "name": "ipython",
    "version": 2
   },
   "file_extension": ".py",
   "mimetype": "text/x-python",
   "name": "python",
   "nbconvert_exporter": "python",
   "pygments_lexer": "ipython2",
   "version": "2.7.6"
  }
 },
 "nbformat": 4,
 "nbformat_minor": 5
}
