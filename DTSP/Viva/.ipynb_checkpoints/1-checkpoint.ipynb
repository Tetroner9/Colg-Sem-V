{
 "cells": [
  {
   "cell_type": "markdown",
   "source": [
    "### Write a python code to determine y[n] the linear convolution of two sequences\n",
    "### x[n] and h[n] using formula given below and hence verify your answer\n",
    "\n",
    "### a. x[n] = [1, 2, 3, 4 ] and h[n] = [1, 1, 3, 2]\n",
    "### b. x[n] = [1, 2, 3, 0, 5 ] and h[n] = [1, 0, 2]"
   ],
   "metadata": {
    "collapsed": false
   },
   "id": "7fb0501d0fb95d48"
  },
  {
   "cell_type": "markdown",
   "source": [
    "# A. (for B. just change the x(n) & h(n)"
   ],
   "metadata": {
    "collapsed": false
   },
   "id": "f1c6a901820aad7e"
  },
  {
   "cell_type": "code",
   "execution_count": 1,
   "outputs": [],
   "source": [
    "import numpy as np\n",
    "import matplotlib.pyplot as plt"
   ],
   "metadata": {
    "collapsed": false,
    "ExecuteTime": {
     "end_time": "2023-10-30T19:56:48.763174861Z",
     "start_time": "2023-10-30T19:56:48.419032610Z"
    }
   },
   "id": "873ec4e012cda401"
  },
  {
   "cell_type": "code",
   "execution_count": 3,
   "outputs": [
    {
     "name": "stdout",
     "output_type": "stream",
     "text": [
      "x(n) =  [1, 2, 3, 4]\n",
      "h(n) =  [1, 1, 3, 2]\n"
     ]
    }
   ],
   "source": [
    "x = eval(input(\"Enter first sequence x(n) = \"))\n",
    "h = eval(input(\"Enter second sequence h(n) = \"))\n",
    "print(\"x(n) = \",x)\n",
    "print(\"h(n) = \",h)"
   ],
   "metadata": {
    "collapsed": false,
    "ExecuteTime": {
     "end_time": "2023-10-30T19:57:18.362978907Z",
     "start_time": "2023-10-30T19:57:05.749367576Z"
    }
   },
   "id": "be086b099102b831"
  },
  {
   "cell_type": "code",
   "execution_count": 4,
   "outputs": [
    {
     "name": "stdout",
     "output_type": "stream",
     "text": [
      "Length is:  7\n"
     ]
    }
   ],
   "source": [
    "L = len(x)\n",
    "M = len(h)\n",
    "N = L + M - 1\n",
    "print(\"Length is: \", N)"
   ],
   "metadata": {
    "collapsed": false,
    "ExecuteTime": {
     "end_time": "2023-10-30T19:57:26.322254636Z",
     "start_time": "2023-10-30T19:57:26.301218504Z"
    }
   },
   "id": "6288d3b427399505"
  },
  {
   "cell_type": "code",
   "execution_count": 5,
   "outputs": [
    {
     "name": "stdout",
     "output_type": "stream",
     "text": [
      "[1. 2. 3. 4. 0. 0. 0.]\n",
      "[1. 1. 3. 2. 0. 0. 0.]\n"
     ]
    }
   ],
   "source": [
    "#Zero Padding sequence of x(n) & h(n)\n",
    "xp = np.append(x,np.zeros(N-L))\n",
    "hp = np.append(h,np.zeros(N-M))\n",
    "print(xp)\n",
    "print(hp)"
   ],
   "metadata": {
    "collapsed": false,
    "ExecuteTime": {
     "end_time": "2023-10-30T19:58:02.363980586Z",
     "start_time": "2023-10-30T19:58:02.356185708Z"
    }
   },
   "id": "f7ed17c3238ca419"
  },
  {
   "cell_type": "code",
   "execution_count": 6,
   "outputs": [
    {
     "name": "stdout",
     "output_type": "stream",
     "text": [
      "[ 1.  3.  8. 15. 17. 18.  8.]\n"
     ]
    }
   ],
   "source": [
    "#Implementation of Convolution sum\n",
    "Y = np.zeros(N)\n",
    "y = np.zeros(N)\n",
    "for n in range(N):\n",
    "    for k in range(N):\n",
    "        if n >= k:\n",
    "            y[n]+= hp[k] * xp[n-k]\n",
    "            Y = y\n",
    "\n",
    "print(Y)"
   ],
   "metadata": {
    "collapsed": false,
    "ExecuteTime": {
     "end_time": "2023-10-30T19:58:18.565689849Z",
     "start_time": "2023-10-30T19:58:18.524520213Z"
    }
   },
   "id": "60521268a525c939"
  },
  {
   "cell_type": "code",
   "execution_count": 7,
   "outputs": [
    {
     "data": {
      "text/plain": "Text(0.5, 1.0, 'Om Kadam')"
     },
     "execution_count": 7,
     "metadata": {},
     "output_type": "execute_result"
    },
    {
     "data": {
      "text/plain": "<Figure size 640x480 with 1 Axes>",
      "image/png": "[encoded data removed]"
     },
     "metadata": {},
     "output_type": "display_data"
    }
   ],
   "source": [
    "plt.stem(Y,linefmt = 'red')\n",
    "plt.xlabel('Discrete Time Variable n',fontsize = 15)\n",
    "plt.ylabel('Convolution Sum',fontsize = 15)\n",
    "plt.title('Om Kadam', fontsize = 12)"
   ],
   "metadata": {
    "collapsed": false,
    "ExecuteTime": {
     "end_time": "2023-10-30T19:58:23.554117612Z",
     "start_time": "2023-10-30T19:58:23.311781441Z"
    }
   },
   "id": "147b963abf49a6a3"
  },
  {
   "cell_type": "code",
   "execution_count": 8,
   "outputs": [
    {
     "data": {
      "text/plain": "array([ 1,  3,  8, 15, 17, 18,  8])"
     },
     "execution_count": 8,
     "metadata": {},
     "output_type": "execute_result"
    }
   ],
   "source": [
    "#Verification through inbuilt syntax\n",
    "P = np.convolve(x,h)\n",
    "P"
   ],
   "metadata": {
    "collapsed": false,
    "ExecuteTime": {
     "end_time": "2023-10-30T19:58:30.815037704Z",
     "start_time": "2023-10-30T19:58:30.805293970Z"
    }
   },
   "id": "b96982afc2e05e08"
  },
  {
   "cell_type": "code",
   "execution_count": 9,
   "outputs": [
    {
     "name": "stdout",
     "output_type": "stream",
     "text": [
      "10\n",
      "7\n",
      "70\n"
     ]
    }
   ],
   "source": [
    "#Summation of sequences\n",
    "X = np.sum(x)\n",
    "H = np.sum(h)\n",
    "W = np.sum(y)\n",
    "print(X)\n",
    "print(H)\n",
    "\n",
    "#Verification\n",
    "W = X * H\n",
    "print(W)"
   ],
   "metadata": {
    "collapsed": false,
    "ExecuteTime": {
     "end_time": "2023-10-30T19:58:57.808820759Z",
     "start_time": "2023-10-30T19:58:57.767242565Z"
    }
   },
   "id": "d3464133c1a4131d"
  },
  {
   "cell_type": "code",
   "execution_count": null,
   "outputs": [],
   "source": [],
   "metadata": {
    "collapsed": false
   },
   "id": "bdb5d02b9fbea83c"
  }
 ],
 "metadata": {
  "kernelspec": {
   "display_name": "Python 3",
   "language": "python",
   "name": "python3"
  },
  "language_info": {
   "codemirror_mode": {
    "name": "ipython",
    "version": 2
   },
   "file_extension": ".py",
   "mimetype": "text/x-python",
   "name": "python",
   "nbconvert_exporter": "python",
   "pygments_lexer": "ipython2",
   "version": "2.7.6"
  }
 },
 "nbformat": 4,
 "nbformat_minor": 5
}
