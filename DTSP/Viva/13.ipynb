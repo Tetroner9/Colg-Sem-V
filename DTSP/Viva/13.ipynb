{
 "cells": [
  {
   "cell_type": "markdown",
   "source": [
    "![alternative text](Questions/Photos/13.png)"
   ],
   "metadata": {
    "collapsed": false
   },
   "id": "875949c81ec8f68c"
  },
  {
   "cell_type": "markdown",
   "source": [
    "## b."
   ],
   "metadata": {
    "collapsed": false
   },
   "id": "b24e61cac135d4cc"
  },
  {
   "cell_type": "code",
   "execution_count": 7,
   "outputs": [],
   "source": [
    "#Importing Python Libraries\n",
    "import numpy as np"
   ],
   "metadata": {
    "collapsed": false,
    "ExecuteTime": {
     "end_time": "2023-10-30T21:41:56.740054113Z",
     "start_time": "2023-10-30T21:41:56.647622109Z"
    }
   },
   "id": "a5920d13f1389be8"
  },
  {
   "cell_type": "code",
   "execution_count": 8,
   "outputs": [
    {
     "name": "stdout",
     "output_type": "stream",
     "text": [
      "Length of x[n] =  4\n"
     ]
    }
   ],
   "source": [
    "#Getting user-defined inputs\n",
    "x = eval(input(\"Enter input sequence x[n]= \"))\n",
    "L = len(x)\n",
    "print(\"Length of x[n] = \",L)\n",
    "N = 4"
   ],
   "metadata": {
    "collapsed": false,
    "ExecuteTime": {
     "end_time": "2023-10-30T21:42:04.447663826Z",
     "start_time": "2023-10-30T21:41:56.691209175Z"
    }
   },
   "id": "a95f3cacea8b5cd9"
  },
  {
   "cell_type": "code",
   "execution_count": 9,
   "outputs": [],
   "source": [
    "#Callable Function for DFT\n",
    "X = np.zeros(N,complex)\n",
    "def DFT_TEA (x,N):\n",
    "    for k in range(N):\n",
    "        for n in range(N):\n",
    "            X[k]+= x[n] * np.exp((-2j * np.pi * n * k)/N)\n",
    "    return(X)"
   ],
   "metadata": {
    "collapsed": false,
    "ExecuteTime": {
     "end_time": "2023-10-30T21:42:04.447836089Z",
     "start_time": "2023-10-30T21:42:04.412231044Z"
    }
   },
   "id": "379a129358ac2c9a"
  },
  {
   "cell_type": "code",
   "execution_count": 10,
   "outputs": [
    {
     "name": "stdout",
     "output_type": "stream",
     "text": [
      "[16.+0.j 16.+0.j 16.+0.j 16.+0.j]\n"
     ]
    }
   ],
   "source": [
    "#Calling DFT Function\n",
    "X = np.zeros(N,complex)\n",
    "if N < L:\n",
    "    print(\"DFT cannot be computed\")\n",
    "else:\n",
    "    X = np.round(DFT_TEA(x,N),decimals = 2)\n",
    "   \n",
    "    print(X)"
   ],
   "metadata": {
    "collapsed": false,
    "ExecuteTime": {
     "end_time": "2023-10-30T21:42:04.448546512Z",
     "start_time": "2023-10-30T21:42:04.419552710Z"
    }
   },
   "id": "4ef8746d936ae13e"
  },
  {
   "cell_type": "code",
   "execution_count": 11,
   "outputs": [
    {
     "name": "stdout",
     "output_type": "stream",
     "text": [
      "[16.+0.j  0.+0.j  0.+0.j  0.+0.j]\n",
      "[16, 0, 0, 0]\n"
     ]
    }
   ],
   "source": [
    "#Verification with inbuilt function\n",
    "X1 = X\n",
    "print(np.fft.ifft(X1))\n",
    "print(x)"
   ],
   "metadata": {
    "collapsed": false,
    "ExecuteTime": {
     "end_time": "2023-10-30T21:42:04.450252502Z",
     "start_time": "2023-10-30T21:42:04.431930247Z"
    }
   },
   "id": "793de94c8e7758ca"
  },
  {
   "cell_type": "markdown",
   "source": [
    "## a."
   ],
   "metadata": {
    "collapsed": false
   },
   "id": "c25d157c8a4e1a6f"
  },
  {
   "cell_type": "code",
   "execution_count": 12,
   "outputs": [
    {
     "name": "stdout",
     "output_type": "stream",
     "text": [
      "[10, (-2+2j), -2, (-2-2j)]\n",
      "Length of X[k] =  4\n"
     ]
    }
   ],
   "source": [
    "#Getting user-defined inputs\n",
    "X = eval(input(\"Enter input sequence X[k]= \"))\n",
    "L = len(X)\n",
    "print(X)\n",
    "print(\"Length of X[k] = \",L)\n",
    "N = 4"
   ],
   "metadata": {
    "collapsed": false,
    "ExecuteTime": {
     "end_time": "2023-10-30T21:42:06.948260605Z",
     "start_time": "2023-10-30T21:42:04.440828568Z"
    }
   },
   "id": "b4b7219417aa54d6"
  },
  {
   "cell_type": "code",
   "execution_count": 13,
   "outputs": [],
   "source": [
    "#Callable Function for IDFT\n",
    "x = np.zeros(N,complex)\n",
    "def IDFT_TEA (X,N):\n",
    "    for n in range(N):\n",
    "        for k in range(N):\n",
    "            x[n]+= X[k] * np.exp((2j * np.pi * n * k)/N)/N\n",
    "    return(x)"
   ],
   "metadata": {
    "collapsed": false,
    "ExecuteTime": {
     "end_time": "2023-10-30T21:42:06.948462901Z",
     "start_time": "2023-10-30T21:42:06.886138401Z"
    }
   },
   "id": "a6c321ff02cddb0b"
  },
  {
   "cell_type": "code",
   "execution_count": 14,
   "outputs": [
    {
     "name": "stdout",
     "output_type": "stream",
     "text": [
      "[1.+0.j 2.+0.j 3.-0.j 4.-0.j]\n"
     ]
    }
   ],
   "source": [
    "#Calling IDFT Function\n",
    "x = np.zeros(N,complex)\n",
    "if N < L:\n",
    "    print(\"IDFT cannot be computed\")\n",
    "else:\n",
    "    x = np.round(IDFT_TEA(X,N),decimals = 2)\n",
    "    print(x)"
   ],
   "metadata": {
    "collapsed": false,
    "ExecuteTime": {
     "end_time": "2023-10-30T21:42:06.949427598Z",
     "start_time": "2023-10-30T21:42:06.890879149Z"
    }
   },
   "id": "b480134cdcdb09b2"
  },
  {
   "cell_type": "code",
   "execution_count": 15,
   "outputs": [
    {
     "name": "stdout",
     "output_type": "stream",
     "text": [
      "[10.+0.j -2.+2.j -2.+0.j -2.-2.j]\n",
      "[10, (-2+2j), -2, (-2-2j)]\n"
     ]
    }
   ],
   "source": [
    "#Verification with inbuilt function\n",
    "X2 = x\n",
    "print(np.fft.fft(X2))\n",
    "print(X)"
   ],
   "metadata": {
    "collapsed": false,
    "ExecuteTime": {
     "end_time": "2023-10-30T21:42:06.949731098Z",
     "start_time": "2023-10-30T21:42:06.903989867Z"
    }
   },
   "id": "36d649a9bd3c73ab"
  }
 ],
 "metadata": {
  "kernelspec": {
   "display_name": "Python 3",
   "language": "python",
   "name": "python3"
  },
  "language_info": {
   "codemirror_mode": {
    "name": "ipython",
    "version": 2
   },
   "file_extension": ".py",
   "mimetype": "text/x-python",
   "name": "python",
   "nbconvert_exporter": "python",
   "pygments_lexer": "ipython2",
   "version": "2.7.6"
  }
 },
 "nbformat": 4,
 "nbformat_minor": 5
}
