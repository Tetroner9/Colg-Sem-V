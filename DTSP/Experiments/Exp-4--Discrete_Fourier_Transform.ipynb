{
 "cells": [
  {
   "cell_type": "markdown",
   "id": "6f4fabec",
   "metadata": {},
   "source": [
    "Experiment No.4: Discrete Fourier Transform"
   ]
  },
  {
   "cell_type": "code",
   "execution_count": 16,
   "id": "d1062ad1",
   "metadata": {
    "ExecuteTime": {
     "end_time": "2023-10-30T21:33:40.418150010Z",
     "start_time": "2023-10-30T21:33:40.365451596Z"
    }
   },
   "outputs": [
    {
     "data": {
      "text/plain": "'\\nName: Om Kadam\\nRoll No: 45\\nClass: TE-EXTC A\\nDivision: A\\nYear Of Study: TE\\nBranch: EXTC\\nDate: 05/08/2023\\nTime: 14:00\\n'"
     },
     "execution_count": 16,
     "metadata": {},
     "output_type": "execute_result"
    }
   ],
   "source": [
    "'''\n",
    "Name: Om Kadam\n",
    "Roll No: 45\n",
    "Class: TE-EXTC A\n",
    "Division: A\n",
    "Year Of Study: TE\n",
    "Branch: EXTC\n",
    "Date: 05/08/2023\n",
    "Time: 14:00\n",
    "'''"
   ]
  },
  {
   "cell_type": "markdown",
   "id": "f4d49e34",
   "metadata": {},
   "source": [
    "Problem Statement: Write a code to implement DFT & IDFT using Formula Method."
   ]
  },
  {
   "cell_type": "code",
   "execution_count": 17,
   "id": "35a55363",
   "metadata": {
    "ExecuteTime": {
     "end_time": "2023-10-30T21:33:40.443629272Z",
     "start_time": "2023-10-30T21:33:40.417523661Z"
    }
   },
   "outputs": [],
   "source": [
    "#Importing Python Libraries\n",
    "import numpy as np\n",
    "import matplotlib.pyplot as plt"
   ]
  },
  {
   "cell_type": "code",
   "execution_count": 18,
   "id": "47358653",
   "metadata": {
    "ExecuteTime": {
     "end_time": "2023-10-30T21:33:46.032151688Z",
     "start_time": "2023-10-30T21:33:40.417624630Z"
    }
   },
   "outputs": [
    {
     "name": "stdout",
     "output_type": "stream",
     "text": [
      "Length of x[n] =  5\n"
     ]
    }
   ],
   "source": [
    "#Getting user-defined inputs\n",
    "x = eval(input(\"Enter input sequence x[n]= \"))\n",
    "L = len(x)\n",
    "print(\"Length of x[n] = \",L)\n",
    "N = 4"
   ]
  },
  {
   "cell_type": "code",
   "execution_count": 19,
   "id": "56b40fda",
   "metadata": {
    "ExecuteTime": {
     "end_time": "2023-10-30T21:33:46.032384685Z",
     "start_time": "2023-10-30T21:33:46.003171467Z"
    }
   },
   "outputs": [],
   "source": [
    "#Callable Function for DFT\n",
    "X = np.zeros(N,complex)\n",
    "def DFT_TEA (x,N):\n",
    "    for k in range(N):\n",
    "        for n in range(N):\n",
    "            X[k]+= x[n] * np.exp((-2j * np.pi * n * k)/N)\n",
    "    return(X)"
   ]
  },
  {
   "cell_type": "code",
   "execution_count": 20,
   "id": "8ee18bbd",
   "metadata": {
    "ExecuteTime": {
     "end_time": "2023-10-30T21:33:46.079649214Z",
     "start_time": "2023-10-30T21:33:46.012944826Z"
    }
   },
   "outputs": [
    {
     "name": "stdout",
     "output_type": "stream",
     "text": [
      "DFT cannot be computed\n"
     ]
    }
   ],
   "source": [
    "#Calling DFT Function\n",
    "X = np.zeros(N,complex)\n",
    "if N < L:\n",
    "    print(\"DFT cannot be computed\")\n",
    "else:\n",
    "    X = np.round(DFT_TEA(x,N),decimals = 2)\n",
    "   \n",
    "    print(X)"
   ]
  },
  {
   "cell_type": "code",
   "execution_count": 21,
   "id": "7546108b",
   "metadata": {
    "ExecuteTime": {
     "end_time": "2023-10-30T21:33:48.398915838Z",
     "start_time": "2023-10-30T21:33:46.054207210Z"
    }
   },
   "outputs": [
    {
     "name": "stdout",
     "output_type": "stream",
     "text": [
      "Length of X[k] =  4\n"
     ]
    }
   ],
   "source": [
    "#Getting user-defined inputs\n",
    "X = eval(input(\"Enter input sequence X[k]= \"))\n",
    "L = len(X)\n",
    "print(\"Length of X[k] = \",L)\n",
    "N = 4"
   ]
  },
  {
   "cell_type": "code",
   "execution_count": 22,
   "id": "dadc4f17",
   "metadata": {
    "scrolled": true,
    "ExecuteTime": {
     "end_time": "2023-10-30T21:33:48.399103701Z",
     "start_time": "2023-10-30T21:33:48.349607460Z"
    }
   },
   "outputs": [],
   "source": [
    "#Callable Function for IDFT\n",
    "x = np.zeros(N,complex)\n",
    "def IDFT_TEA (X,N):\n",
    "    for n in range(N):\n",
    "        for k in range(N):\n",
    "            x[n]+= X[k] * np.exp((2j * np.pi * n * k)/N)/N\n",
    "    return(x)"
   ]
  },
  {
   "cell_type": "code",
   "execution_count": 23,
   "id": "a607cf56",
   "metadata": {
    "ExecuteTime": {
     "end_time": "2023-10-30T21:33:48.399293290Z",
     "start_time": "2023-10-30T21:33:48.356406662Z"
    }
   },
   "outputs": [
    {
     "name": "stdout",
     "output_type": "stream",
     "text": [
      "[1.+0.j 4.-0.j 3.-0.j 2.+0.j]\n"
     ]
    }
   ],
   "source": [
    "#Calling IDFT Function\n",
    "x = np.zeros(N,complex)\n",
    "if N < L:\n",
    "    print(\"IDFT cannot be computed\")\n",
    "else:\n",
    "    x = np.round(IDFT_TEA(X,N),decimals = 2)\n",
    "    print(x)"
   ]
  },
  {
   "cell_type": "code",
   "execution_count": 24,
   "id": "cc180473",
   "metadata": {
    "ExecuteTime": {
     "end_time": "2023-10-30T21:33:48.413466093Z",
     "start_time": "2023-10-30T21:33:48.363768546Z"
    }
   },
   "outputs": [
    {
     "name": "stdout",
     "output_type": "stream",
     "text": [
      "[1.+0.j 4.+0.j 3.+0.j 2.+0.j]\n"
     ]
    }
   ],
   "source": [
    "#Verification with inbuilt function\n",
    "X1 = [10,-2-2j,-2,-2+2j]\n",
    "print(np.fft.ifft(X1))"
   ]
  }
 ],
 "metadata": {
  "kernelspec": {
   "display_name": "Python 3 (ipykernel)",
   "language": "python",
   "name": "python3"
  },
  "language_info": {
   "codemirror_mode": {
    "name": "ipython",
    "version": 3
   },
   "file_extension": ".py",
   "mimetype": "text/x-python",
   "name": "python",
   "nbconvert_exporter": "python",
   "pygments_lexer": "ipython3",
   "version": "3.9.7"
  }
 },
 "nbformat": 4,
 "nbformat_minor": 5
}
