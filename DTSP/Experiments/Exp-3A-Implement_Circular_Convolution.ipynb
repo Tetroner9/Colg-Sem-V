{
 "cells": [
  {
   "cell_type": "markdown",
   "id": "ccf780ae",
   "metadata": {},
   "source": [
    "Problem Statement: Find circular convolution of x(n) & h(n)"
   ]
  },
  {
   "cell_type": "code",
   "execution_count": 1,
   "id": "a741c873",
   "metadata": {
    "ExecuteTime": {
     "end_time": "2023-11-07T15:03:04.330643171Z",
     "start_time": "2023-11-07T15:03:04.012631140Z"
    }
   },
   "outputs": [],
   "source": [
    "import numpy as np\n",
    "import matplotlib.pyplot as plt"
   ]
  },
  {
   "cell_type": "code",
   "execution_count": 2,
   "id": "f3244d55",
   "metadata": {
    "ExecuteTime": {
     "end_time": "2023-11-07T15:03:15.071591467Z",
     "start_time": "2023-11-07T15:03:04.332874844Z"
    }
   },
   "outputs": [
    {
     "name": "stdout",
     "output_type": "stream",
     "text": [
      "x(n) =  [1, 2, 3, 4]\n",
      "h(n) =  [1, 2, -1]\n"
     ]
    }
   ],
   "source": [
    "x = eval(input(\"Enter first sequence x(n) = \"))\n",
    "h = eval(input(\"Enter second sequence h(n) = \"))\n",
    "print(\"x(n) = \",x)\n",
    "print(\"h(n) = \",h)"
   ]
  },
  {
   "cell_type": "code",
   "execution_count": 3,
   "id": "1dca5236",
   "metadata": {
    "ExecuteTime": {
     "end_time": "2023-11-07T15:03:15.072612305Z",
     "start_time": "2023-11-07T15:03:15.051255484Z"
    }
   },
   "outputs": [
    {
     "name": "stdout",
     "output_type": "stream",
     "text": [
      "4\n"
     ]
    }
   ],
   "source": [
    "L = len(x)\n",
    "M = len(h)\n",
    "N = max(L,M)\n",
    "print(N)"
   ]
  },
  {
   "cell_type": "code",
   "execution_count": 4,
   "id": "1bba743a",
   "metadata": {
    "ExecuteTime": {
     "end_time": "2023-11-07T15:03:15.075123959Z",
     "start_time": "2023-11-07T15:03:15.063728056Z"
    }
   },
   "outputs": [
    {
     "name": "stdout",
     "output_type": "stream",
     "text": [
      "[1. 2. 3. 4.]\n",
      "[ 1.  2. -1.  0.]\n"
     ]
    }
   ],
   "source": [
    "#Zero Padding sequence of x(n) & h(n)\n",
    "xp = np.append(x,np.zeros(N-L))\n",
    "hp = np.append(h,np.zeros(N-M))\n",
    "print(xp)\n",
    "print(hp)"
   ]
  },
  {
   "cell_type": "code",
   "execution_count": 5,
   "id": "70d26d87",
   "metadata": {
    "ExecuteTime": {
     "end_time": "2023-11-07T15:03:15.100143749Z",
     "start_time": "2023-11-07T15:03:15.074510406Z"
    }
   },
   "outputs": [
    {
     "name": "stdout",
     "output_type": "stream",
     "text": [
      "[1.0, 2.0, -1.0, 0.0]\n"
     ]
    }
   ],
   "source": [
    "arr_1 = np.array(hp)\n",
    "h1 = arr_1.tolist()\n",
    "print(h1)"
   ]
  },
  {
   "cell_type": "code",
   "execution_count": 6,
   "id": "0b8d2bb2",
   "metadata": {
    "ExecuteTime": {
     "end_time": "2023-11-07T15:03:15.156672937Z",
     "start_time": "2023-11-07T15:03:15.080332774Z"
    }
   },
   "outputs": [
    {
     "name": "stdout",
     "output_type": "stream",
     "text": [
      "[0.0, -1.0, 2.0, 1.0]\n"
     ]
    }
   ],
   "source": [
    "#Time Reverse Signal\n",
    "h1.reverse()\n",
    "print(h1)"
   ]
  },
  {
   "cell_type": "code",
   "execution_count": 7,
   "id": "79e86d13",
   "metadata": {
    "ExecuteTime": {
     "end_time": "2023-11-07T15:03:15.157366825Z",
     "start_time": "2023-11-07T15:03:15.122730433Z"
    }
   },
   "outputs": [
    {
     "name": "stdout",
     "output_type": "stream",
     "text": [
      "[ 1.  0. -1.  2.]\n",
      "[6. 0. 6. 8.]\n"
     ]
    }
   ],
   "source": [
    "#Roll by 1 unit\n",
    "y = np.zeros(N)\n",
    "Y = np.zeros(N)\n",
    "H1 = np.roll(h1,1)\n",
    "print(H1)\n",
    "for i in range(N):\n",
    "    y1 = H1 * np.transpose(xp)\n",
    "    y = np.sum(y1)\n",
    "    H1 = np.roll(H1,1)\n",
    "    Y[i] = y\n",
    "print(Y)"
   ]
  },
  {
   "cell_type": "code",
   "execution_count": 8,
   "id": "6534074c",
   "metadata": {
    "ExecuteTime": {
     "end_time": "2023-11-07T15:03:15.313532901Z",
     "start_time": "2023-11-07T15:03:15.122920160Z"
    }
   },
   "outputs": [
    {
     "data": {
      "text/plain": "Text(0.5, 1.0, 'Your Name')"
     },
     "execution_count": 8,
     "metadata": {},
     "output_type": "execute_result"
    },
    {
     "data": {
      "text/plain": "<Figure size 640x480 with 1 Axes>",
      "image/png": "[encoded data removed]"
     },
     "metadata": {},
     "output_type": "display_data"
    }
   ],
   "source": [
    "plt.stem(Y,linefmt = 'red')\n",
    "plt.xlabel('Discrete Time Variable n',fontsize = 15)\n",
    "plt.ylabel('Circular Convolution Sum',fontsize = 15)\n",
    "plt.title('Your Name', fontsize = 12)"
   ]
  }
 ],
 "metadata": {
  "kernelspec": {
   "display_name": "Python 3 (ipykernel)",
   "language": "python",
   "name": "python3"
  },
  "language_info": {
   "codemirror_mode": {
    "name": "ipython",
    "version": 3
   },
   "file_extension": ".py",
   "mimetype": "text/x-python",
   "name": "python",
   "nbconvert_exporter": "python",
   "pygments_lexer": "ipython3",
   "version": "3.9.12"
  }
 },
 "nbformat": 4,
 "nbformat_minor": 5
}
