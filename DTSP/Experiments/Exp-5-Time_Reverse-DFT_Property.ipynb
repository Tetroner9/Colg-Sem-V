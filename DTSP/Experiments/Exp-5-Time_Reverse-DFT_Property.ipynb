{
 "cells": [
  {
   "cell_type": "markdown",
   "id": "c4dbe4d5",
   "metadata": {},
   "source": [
    "### Time Reverse Property"
   ]
  },
  {
   "cell_type": "code",
   "execution_count": 1,
   "id": "9d9625cf",
   "metadata": {},
   "outputs": [],
   "source": [
    "#Importing in-built libraries\n",
    "import numpy as np\n",
    "import matplotlib.pyplot as plt"
   ]
  },
  {
   "cell_type": "code",
   "execution_count": 2,
   "id": "814f6d4a",
   "metadata": {},
   "outputs": [
    {
     "name": "stdout",
     "output_type": "stream",
     "text": [
      "Enter x(n) = [1,3,5,7]\n",
      "Length is =  4 \n",
      "\n",
      "Enter x1(n) = [1,7,5,3]\n",
      "Length is =  4 \n"
     ]
    }
   ],
   "source": [
    "#Getting user-defined inputs and determining its length\n",
    "x = eval(input(\"Enter x(n) = \"))\n",
    "L = len(x)\n",
    "print('Length is = ', L, '\\n')\n",
    "x1 = eval(input(\"Enter x1(n) = \"))\n",
    "M = len(x1)\n",
    "print('Length is = ', M, '\\n')\n",
    "N = max(L,M)"
   ]
  },
  {
   "cell_type": "code",
   "execution_count": 3,
   "id": "f16fb947",
   "metadata": {},
   "outputs": [
    {
     "name": "stdout",
     "output_type": "stream",
     "text": [
      "[16.+0.j -4.+4.j -4.+0.j -4.-4.j]\n"
     ]
    }
   ],
   "source": [
    "#Finding DFT of user-defined inputs\n",
    "X = np.fft.fft(x)\n",
    "print(X)"
   ]
  },
  {
   "cell_type": "code",
   "execution_count": 4,
   "id": "5417ad6a",
   "metadata": {},
   "outputs": [
    {
     "name": "stdout",
     "output_type": "stream",
     "text": [
      "[16.+0.j -4.-4.j -4.+0.j -4.+4.j]\n"
     ]
    }
   ],
   "source": [
    "X1 = np.fft.fft(x1)\n",
    "print(X1)"
   ]
  },
  {
   "cell_type": "code",
   "execution_count": 5,
   "id": "4978316b",
   "metadata": {},
   "outputs": [
    {
     "name": "stdout",
     "output_type": "stream",
     "text": [
      "[16.+0.j -4.-4.j -4.+0.j -4.+4.j]\n"
     ]
    }
   ],
   "source": [
    "# Time Reverse Property of DFT\n",
    "Y = np.zeros (N, complex)\n",
    "for k in range (N):\n",
    "    Y[k] += X [(-k % N)]\n",
    "print(Y)"
   ]
  },
  {
   "cell_type": "code",
   "execution_count": 6,
   "id": "9e113a32",
   "metadata": {},
   "outputs": [
    {
     "name": "stdout",
     "output_type": "stream",
     "text": [
      "Verified\n"
     ]
    }
   ],
   "source": [
    "if Y.all() == X1.all():\n",
    "    print('Verified')\n",
    "else:\n",
    "    print('Not Verified')"
   ]
  }
 ],
 "metadata": {
  "kernelspec": {
   "display_name": "Python 3 (ipykernel)",
   "language": "python",
   "name": "python3"
  },
  "language_info": {
   "codemirror_mode": {
    "name": "ipython",
    "version": 3
   },
   "file_extension": ".py",
   "mimetype": "text/x-python",
   "name": "python",
   "nbconvert_exporter": "python",
   "pygments_lexer": "ipython3",
   "version": "3.11.5"
  }
 },
 "nbformat": 4,
 "nbformat_minor": 5
}
