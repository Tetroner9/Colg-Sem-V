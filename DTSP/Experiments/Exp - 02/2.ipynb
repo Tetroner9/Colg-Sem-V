{
 "cells": [
  {
   "cell_type": "markdown",
   "id": "506cd7b9",
   "metadata": {},
   "source": [
    "#### Problem Statement: Write a code to implement linear convolution x(n) & h(n)"
   ]
  },
  {
   "cell_type": "code",
   "id": "3295391a",
   "metadata": {
    "ExecuteTime": {
     "end_time": "2024-04-28T22:19:12.783130Z",
     "start_time": "2024-04-28T22:19:12.780882Z"
    }
   },
   "source": [
    "import numpy as np\n",
    "import matplotlib.pyplot as plt"
   ],
   "outputs": [],
   "execution_count": 3
  },
  {
   "cell_type": "code",
   "id": "00c67071",
   "metadata": {
    "ExecuteTime": {
     "end_time": "2024-04-28T22:19:23.612884Z",
     "start_time": "2024-04-28T22:19:12.786420Z"
    }
   },
   "source": [
    "x = eval(input(\"Enter first sequence x(n) = \"))\n",
    "h = eval(input(\"Enter second sequence h(n) = \"))\n",
    "print(\"x(n) = \",x)\n",
    "print(\"h(n) = \",h)"
   ],
   "outputs": [
    {
     "name": "stdout",
     "output_type": "stream",
     "text": [
      "x(n) =  (1, 2, 3, 4)\n",
      "h(n) =  (1, 2, -1)\n"
     ]
    }
   ],
   "execution_count": 4
  },
  {
   "cell_type": "code",
   "id": "cd7c3d50",
   "metadata": {
    "ExecuteTime": {
     "end_time": "2024-04-28T22:19:23.633578Z",
     "start_time": "2024-04-28T22:19:23.619859Z"
    }
   },
   "source": [
    "L = len(x)\n",
    "M = len(h)\n",
    "N = L + M - 1\n",
    "print(\"Length is: \",N)"
   ],
   "outputs": [
    {
     "name": "stdout",
     "output_type": "stream",
     "text": [
      "Length is:  6\n"
     ]
    }
   ],
   "execution_count": 5
  },
  {
   "cell_type": "code",
   "id": "b170569d",
   "metadata": {
    "ExecuteTime": {
     "end_time": "2024-04-28T22:19:23.648115Z",
     "start_time": "2024-04-28T22:19:23.636428Z"
    }
   },
   "source": [
    "#Zero Padding sequence of x(n) & h(n)\n",
    "xp = np.append(x,np.zeros(N-L))\n",
    "hp = np.append(h,np.zeros(N-M))\n",
    "print(xp)\n",
    "print(hp)"
   ],
   "outputs": [
    {
     "name": "stdout",
     "output_type": "stream",
     "text": [
      "[1. 2. 3. 4. 0. 0.]\n",
      "[ 1.  2. -1.  0.  0.  0.]\n"
     ]
    }
   ],
   "execution_count": 6
  },
  {
   "cell_type": "code",
   "id": "27acfa78",
   "metadata": {
    "ExecuteTime": {
     "end_time": "2024-04-28T22:19:23.658205Z",
     "start_time": "2024-04-28T22:19:23.651438Z"
    }
   },
   "source": [
    "#Implementation of Convolution sum\n",
    "Y = np.zeros(N)\n",
    "y = np.zeros(N)\n",
    "for n in range(N):\n",
    "    for k in range(N):\n",
    "        if n >= k:\n",
    "            y[n]+= hp[k] * xp[n-k]\n",
    "            Y = y\n",
    "\n",
    "print(Y)"
   ],
   "outputs": [
    {
     "name": "stdout",
     "output_type": "stream",
     "text": [
      "[ 1.  4.  6.  8.  5. -4.]\n"
     ]
    }
   ],
   "execution_count": 7
  },
  {
   "cell_type": "code",
   "id": "2a5f2956",
   "metadata": {
    "ExecuteTime": {
     "end_time": "2024-04-28T22:19:23.843950Z",
     "start_time": "2024-04-28T22:19:23.659416Z"
    }
   },
   "source": [
    "plt.stem(Y,linefmt = 'red')\n",
    "plt.xlabel('Discrete Time Variable n',fontsize = 15)\n",
    "plt.ylabel('Convolution Sum',fontsize = 15)\n",
    "plt.title('Your Name', fontsize = 12)"
   ],
   "outputs": [
    {
     "data": {
      "text/plain": [
       "Text(0.5, 1.0, 'Your Name')"
      ]
     },
     "execution_count": 8,
     "metadata": {},
     "output_type": "execute_result"
    },
    {
     "data": {
      "text/plain": [
       "<Figure size 640x480 with 1 Axes>"
      ],
      "image/png": "[encoded data removed]"
     },
     "metadata": {},
     "output_type": "display_data"
    }
   ],
   "execution_count": 8
  },
  {
   "cell_type": "code",
   "id": "9276cb71",
   "metadata": {
    "ExecuteTime": {
     "end_time": "2024-04-28T22:19:23.850489Z",
     "start_time": "2024-04-28T22:19:23.845261Z"
    }
   },
   "source": [
    "#Verification through inbuilt syntax\n",
    "P = np.convolve(x,h)\n",
    "P"
   ],
   "outputs": [
    {
     "data": {
      "text/plain": [
       "array([ 1,  4,  6,  8,  5, -4])"
      ]
     },
     "execution_count": 9,
     "metadata": {},
     "output_type": "execute_result"
    }
   ],
   "execution_count": 9
  },
  {
   "cell_type": "code",
   "id": "1fb581c8",
   "metadata": {
    "ExecuteTime": {
     "end_time": "2024-04-28T22:19:23.866427Z",
     "start_time": "2024-04-28T22:19:23.851813Z"
    }
   },
   "source": [
    "#Summation of sequences\n",
    "X = np.sum(x)\n",
    "H = np.sum(h)\n",
    "W = np.sum(y)\n",
    "print(X)\n",
    "print(H)\n",
    "\n",
    "#Verification\n",
    "W = X * H\n",
    "print(W)"
   ],
   "outputs": [
    {
     "name": "stdout",
     "output_type": "stream",
     "text": [
      "10\n",
      "2\n",
      "20\n"
     ]
    }
   ],
   "execution_count": 10
  }
 ],
 "metadata": {
  "kernelspec": {
   "display_name": "Python 3 (ipykernel)",
   "language": "python",
   "name": "python3"
  },
  "language_info": {
   "codemirror_mode": {
    "name": "ipython",
    "version": 3
   },
   "file_extension": ".py",
   "mimetype": "text/x-python",
   "name": "python",
   "nbconvert_exporter": "python",
   "pygments_lexer": "ipython3",
   "version": "3.9.12"
  }
 },
 "nbformat": 4,
 "nbformat_minor": 5
}
