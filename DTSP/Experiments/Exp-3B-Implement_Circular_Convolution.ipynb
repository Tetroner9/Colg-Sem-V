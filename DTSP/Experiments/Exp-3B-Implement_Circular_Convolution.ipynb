{
 "cells": [
  {
   "cell_type": "markdown",
   "id": "7cd0dd69",
   "metadata": {},
   "source": [
    "Problem Statement: Find circular convolution of x(n) & h(n)"
   ]
  },
  {
   "cell_type": "code",
   "execution_count": 1,
   "id": "a76f5df2",
   "metadata": {
    "ExecuteTime": {
     "end_time": "2023-11-07T15:05:07.419282646Z",
     "start_time": "2023-11-07T15:05:07.142631557Z"
    }
   },
   "outputs": [],
   "source": [
    "import numpy as np\n",
    "import matplotlib.pyplot as plt"
   ]
  },
  {
   "cell_type": "code",
   "execution_count": 2,
   "id": "724b3985",
   "metadata": {
    "ExecuteTime": {
     "end_time": "2023-11-07T15:05:15.158168495Z",
     "start_time": "2023-11-07T15:05:07.421315515Z"
    }
   },
   "outputs": [
    {
     "name": "stdout",
     "output_type": "stream",
     "text": [
      "x(n) =  [1, 2, 3, 4]\n",
      "h(n) =  [1, 2, -1]\n"
     ]
    }
   ],
   "source": [
    "x = eval(input(\"Enter first sequence x(n) = \"))\n",
    "h = eval(input(\"Enter second sequence h(n) = \"))\n",
    "print(\"x(n) = \",x)\n",
    "print(\"h(n) = \",h)"
   ]
  },
  {
   "cell_type": "code",
   "execution_count": 3,
   "id": "00b86005",
   "metadata": {
    "ExecuteTime": {
     "end_time": "2023-11-07T15:05:15.158926498Z",
     "start_time": "2023-11-07T15:05:15.117664171Z"
    }
   },
   "outputs": [
    {
     "name": "stdout",
     "output_type": "stream",
     "text": [
      "4\n"
     ]
    }
   ],
   "source": [
    "L = len(x)\n",
    "M = len(h)\n",
    "N = max(L,M)\n",
    "print(N)"
   ]
  },
  {
   "cell_type": "code",
   "execution_count": 4,
   "id": "97b26ec3",
   "metadata": {
    "ExecuteTime": {
     "end_time": "2023-11-07T15:05:15.159652464Z",
     "start_time": "2023-11-07T15:05:15.129204220Z"
    }
   },
   "outputs": [
    {
     "name": "stdout",
     "output_type": "stream",
     "text": [
      "[1. 2. 3. 4.]\n",
      "[ 1.  2. -1.  0.]\n"
     ]
    }
   ],
   "source": [
    "#Zero Padding sequence of x(n) & h(n)\n",
    "xp = np.append(x,np.zeros(N-L))\n",
    "hp = np.append(h,np.zeros(N-M))\n",
    "print(xp)\n",
    "print(hp)"
   ]
  },
  {
   "cell_type": "code",
   "execution_count": 5,
   "id": "b4c3aa1e",
   "metadata": {
    "ExecuteTime": {
     "end_time": "2023-11-07T15:05:15.236547755Z",
     "start_time": "2023-11-07T15:05:15.136381694Z"
    }
   },
   "outputs": [
    {
     "name": "stdout",
     "output_type": "stream",
     "text": [
      "[1.0, 2.0, -1.0, 0.0]\n"
     ]
    }
   ],
   "source": [
    "arr_1 = np.array(hp)\n",
    "h1 = arr_1.tolist()\n",
    "print(h1)"
   ]
  },
  {
   "cell_type": "code",
   "execution_count": 6,
   "id": "c12322a3",
   "metadata": {
    "ExecuteTime": {
     "end_time": "2023-11-07T15:05:15.236955370Z",
     "start_time": "2023-11-07T15:05:15.179443852Z"
    }
   },
   "outputs": [
    {
     "name": "stdout",
     "output_type": "stream",
     "text": [
      "[0.0, -1.0, 2.0, 1.0]\n"
     ]
    }
   ],
   "source": [
    "#Time Reverse Signal\n",
    "h1.reverse()\n",
    "print(h1)"
   ]
  },
  {
   "cell_type": "code",
   "execution_count": 7,
   "id": "04f3cbcd",
   "metadata": {
    "ExecuteTime": {
     "end_time": "2023-11-07T15:05:15.237294911Z",
     "start_time": "2023-11-07T15:05:15.179664457Z"
    }
   },
   "outputs": [
    {
     "name": "stdout",
     "output_type": "stream",
     "text": [
      "[ 1.  0. -1.  2.]\n",
      "[6. 0. 6. 8.]\n"
     ]
    }
   ],
   "source": [
    "#Roll by 1 unit\n",
    "y = np.zeros(N)\n",
    "Y = np.zeros(N)\n",
    "H1 = np.roll(h1,1)\n",
    "print(H1)\n",
    "for i in range(N):\n",
    "    y1 = H1 * np.transpose(xp)\n",
    "    y = np.sum(y1)\n",
    "    H1 = np.roll(H1,1)\n",
    "    Y[i] = y\n",
    "print(Y)"
   ]
  },
  {
   "cell_type": "code",
   "execution_count": 8,
   "id": "1f16c264",
   "metadata": {
    "ExecuteTime": {
     "end_time": "2023-11-07T15:05:15.380455002Z",
     "start_time": "2023-11-07T15:05:15.179808761Z"
    }
   },
   "outputs": [
    {
     "data": {
      "text/plain": "Text(0.5, 1.0, 'Your Name')"
     },
     "execution_count": 8,
     "metadata": {},
     "output_type": "execute_result"
    },
    {
     "data": {
      "text/plain": "<Figure size 640x480 with 1 Axes>",
      "image/png": "[encoded data removed]"
     },
     "metadata": {},
     "output_type": "display_data"
    }
   ],
   "source": [
    "plt.stem(Y,linefmt = 'red')\n",
    "plt.xlabel('Discrete Time Variable n',fontsize = 15)\n",
    "plt.ylabel('Circular Convolution Sum',fontsize = 15)\n",
    "plt.title('Your Name', fontsize = 12)"
   ]
  },
  {
   "cell_type": "code",
   "execution_count": 9,
   "id": "0f55fe88",
   "metadata": {
    "ExecuteTime": {
     "end_time": "2023-11-07T15:05:15.449883847Z",
     "start_time": "2023-11-07T15:05:15.383841645Z"
    }
   },
   "outputs": [
    {
     "name": "stdout",
     "output_type": "stream",
     "text": [
      "Length is:  6\n",
      "[1. 2. 3. 4. 0. 0.]\n",
      "[ 1.  2. -1.  0.  0.  0.]\n"
     ]
    }
   ],
   "source": [
    "#Linear Convolution\n",
    "L = len(x)\n",
    "M = len(h)\n",
    "N = L + M - 1\n",
    "print(\"Length is: \",N)\n",
    "#Zero Padding sequence of x(n) & h(n)\n",
    "xp = np.append(x,np.zeros(N-L))\n",
    "hp = np.append(h,np.zeros(N-M))\n",
    "print(xp)\n",
    "print(hp)"
   ]
  },
  {
   "cell_type": "code",
   "execution_count": 10,
   "id": "9260a254",
   "metadata": {
    "ExecuteTime": {
     "end_time": "2023-11-07T15:05:15.450438751Z",
     "start_time": "2023-11-07T15:05:15.426194424Z"
    }
   },
   "outputs": [
    {
     "name": "stdout",
     "output_type": "stream",
     "text": [
      "[ 1.  4.  6.  8.  5. -4.]\n"
     ]
    }
   ],
   "source": [
    "#Implementation of Convolution sum\n",
    "Y = np.zeros(N)\n",
    "y = np.zeros(N)\n",
    "for n in range(N):\n",
    "    for k in range(N):\n",
    "        if n >= k:\n",
    "            y[n]+= hp[k] * xp[n-k]\n",
    "            Y = y\n",
    "\n",
    "print(Y)"
   ]
  },
  {
   "cell_type": "code",
   "execution_count": 11,
   "id": "7a177d8f",
   "metadata": {
    "ExecuteTime": {
     "end_time": "2023-11-07T15:05:15.450918963Z",
     "start_time": "2023-11-07T15:05:15.426444175Z"
    }
   },
   "outputs": [
    {
     "data": {
      "text/plain": "array([ 1,  4,  6,  8,  5, -4])"
     },
     "execution_count": 11,
     "metadata": {},
     "output_type": "execute_result"
    }
   ],
   "source": [
    "#Verification through inbuilt syntax\n",
    "P = np.convolve(x,h)\n",
    "P"
   ]
  },
  {
   "cell_type": "code",
   "execution_count": 12,
   "id": "87b5d1b2",
   "metadata": {
    "ExecuteTime": {
     "end_time": "2023-11-07T15:05:15.451286981Z",
     "start_time": "2023-11-07T15:05:15.426655141Z"
    }
   },
   "outputs": [
    {
     "name": "stdout",
     "output_type": "stream",
     "text": [
      "10\n",
      "2\n",
      "20\n"
     ]
    }
   ],
   "source": [
    "#Summation of sequences\n",
    "X = np.sum(x)\n",
    "H = np.sum(h)\n",
    "W = np.sum(y)\n",
    "print(X)\n",
    "print(H)\n",
    "\n",
    "#Verification\n",
    "W = X * H\n",
    "print(W)"
   ]
  },
  {
   "cell_type": "code",
   "execution_count": 13,
   "id": "84ff6ee1",
   "metadata": {
    "ExecuteTime": {
     "end_time": "2023-11-07T15:05:15.618375628Z",
     "start_time": "2023-11-07T15:05:15.426846579Z"
    }
   },
   "outputs": [
    {
     "data": {
      "text/plain": "Text(0.5, 1.0, 'Your Name')"
     },
     "execution_count": 13,
     "metadata": {},
     "output_type": "execute_result"
    },
    {
     "data": {
      "text/plain": "<Figure size 640x480 with 1 Axes>",
      "image/png": "[encoded data removed]"
     },
     "metadata": {},
     "output_type": "display_data"
    }
   ],
   "source": [
    "plt.stem(Y,linefmt = 'red')\n",
    "plt.xlabel('Discrete Time Variable n',fontsize = 15)\n",
    "plt.ylabel('Linear Convolution Sum',fontsize = 15)\n",
    "plt.title('Your Name', fontsize = 12)"
   ]
  }
 ],
 "metadata": {
  "kernelspec": {
   "display_name": "Python 3 (ipykernel)",
   "language": "python",
   "name": "python3"
  },
  "language_info": {
   "codemirror_mode": {
    "name": "ipython",
    "version": 3
   },
   "file_extension": ".py",
   "mimetype": "text/x-python",
   "name": "python",
   "nbconvert_exporter": "python",
   "pygments_lexer": "ipython3",
   "version": "3.9.12"
  }
 },
 "nbformat": 4,
 "nbformat_minor": 5
}
