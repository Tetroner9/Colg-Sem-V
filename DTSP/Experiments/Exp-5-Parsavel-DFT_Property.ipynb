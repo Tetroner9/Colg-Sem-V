{
 "cells": [
  {
   "cell_type": "markdown",
   "id": "d8807d641006b52b",
   "metadata": {},
   "source": [
    "### PS : Verification of parsavel's theorem."
   ]
  },
  {
   "cell_type": "code",
   "execution_count": 2,
   "id": "17f80d9affad7710",
   "metadata": {
    "ExecuteTime": {
     "end_time": "2023-10-19T08:00:36.060311289Z",
     "start_time": "2023-10-19T08:00:35.990391074Z"
    }
   },
   "outputs": [],
   "source": [
    "import numpy as np"
   ]
  },
  {
   "cell_type": "code",
   "execution_count": 3,
   "id": "1fd949d8d491a013",
   "metadata": {
    "ExecuteTime": {
     "end_time": "2023-10-19T08:00:54.555032654Z",
     "start_time": "2023-10-19T08:00:47.955214491Z"
    }
   },
   "outputs": [
    {
     "name": "stdout",
     "output_type": "stream",
     "text": [
      "4\n"
     ]
    }
   ],
   "source": [
    "x=eval(input('Get Sequence X(n)='))\n",
    "L=len(x)\n",
    "N=L\n",
    "print(N)"
   ]
  },
  {
   "cell_type": "code",
   "execution_count": 4,
   "id": "11139e0fc72b3061",
   "metadata": {
    "ExecuteTime": {
     "end_time": "2023-10-19T08:01:07.432832205Z",
     "start_time": "2023-10-19T08:01:07.384980959Z"
    }
   },
   "outputs": [
    {
     "name": "stdout",
     "output_type": "stream",
     "text": [
      "30\n"
     ]
    }
   ],
   "source": [
    "Ex=np.sum(np.square(x))\n",
    "print(Ex)"
   ]
  },
  {
   "cell_type": "code",
   "execution_count": 5,
   "id": "c8004ce23b6083b9",
   "metadata": {
    "ExecuteTime": {
     "end_time": "2023-10-19T08:01:14.339518778Z",
     "start_time": "2023-10-19T08:01:14.318058485Z"
    }
   },
   "outputs": [
    {
     "name": "stdout",
     "output_type": "stream",
     "text": [
      "[10.+0.j -2.+2.j -2.+0.j -2.-2.j]\n"
     ]
    }
   ],
   "source": [
    "X=np.fft.fft(x)\n",
    "print(X)"
   ]
  },
  {
   "cell_type": "code",
   "execution_count": 6,
   "id": "5036ec7bce6c74e2",
   "metadata": {
    "ExecuteTime": {
     "end_time": "2023-10-19T08:01:19.331232663Z",
     "start_time": "2023-10-19T08:01:19.307430800Z"
    }
   },
   "outputs": [
    {
     "name": "stdout",
     "output_type": "stream",
     "text": [
      "[10.          2.82842712  2.          2.82842712]\n"
     ]
    }
   ],
   "source": [
    "x_mag=np.abs(X)\n",
    "print(x_mag)"
   ]
  },
  {
   "cell_type": "code",
   "execution_count": 7,
   "id": "3d571b540f0904",
   "metadata": {
    "ExecuteTime": {
     "end_time": "2023-10-19T08:01:24.712907677Z",
     "start_time": "2023-10-19T08:01:24.679804807Z"
    }
   },
   "outputs": [
    {
     "name": "stdout",
     "output_type": "stream",
     "text": [
      "120.0\n"
     ]
    }
   ],
   "source": [
    "x_mag_k=np.sum(np.square(x_mag))\n",
    "print(x_mag_k)"
   ]
  },
  {
   "cell_type": "code",
   "execution_count": 8,
   "id": "9e423334d2b40236",
   "metadata": {
    "ExecuteTime": {
     "end_time": "2023-10-19T08:01:30.638362167Z",
     "start_time": "2023-10-19T08:01:30.600042159Z"
    }
   },
   "outputs": [
    {
     "name": "stdout",
     "output_type": "stream",
     "text": [
      "30.0\n"
     ]
    }
   ],
   "source": [
    "EX=np.sum(np.square(x_mag)/4)\n",
    "print(EX)"
   ]
  },
  {
   "cell_type": "code",
   "execution_count": 10,
   "id": "e2e5c9239de95519",
   "metadata": {
    "ExecuteTime": {
     "end_time": "2023-10-19T08:01:43.538922283Z",
     "start_time": "2023-10-19T08:01:43.527131183Z"
    }
   },
   "outputs": [
    {
     "data": {
      "text/plain": [
       "True"
      ]
     },
     "execution_count": 10,
     "metadata": {},
     "output_type": "execute_result"
    }
   ],
   "source": [
    "Ex==EX"
   ]
  }
 ],
 "metadata": {
  "kernelspec": {
   "display_name": "Python 3 (ipykernel)",
   "language": "python",
   "name": "python3"
  },
  "language_info": {
   "codemirror_mode": {
    "name": "ipython",
    "version": 3
   },
   "file_extension": ".py",
   "mimetype": "text/x-python",
   "name": "python",
   "nbconvert_exporter": "python",
   "pygments_lexer": "ipython3",
   "version": "3.11.5"
  }
 },
 "nbformat": 4,
 "nbformat_minor": 5
}
