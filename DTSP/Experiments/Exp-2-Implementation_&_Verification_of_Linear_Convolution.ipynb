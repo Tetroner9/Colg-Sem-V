{
 "cells": [
  {
   "cell_type": "markdown",
   "id": "506cd7b9",
   "metadata": {},
   "source": [
    "#### Problem Statement: Write a code to implement linear convolution x(n) & h(n)"
   ]
  },
  {
   "cell_type": "code",
   "execution_count": 1,
   "id": "3295391a",
   "metadata": {
    "ExecuteTime": {
     "end_time": "2023-11-07T15:02:13.687717886Z",
     "start_time": "2023-11-07T15:02:13.315315262Z"
    }
   },
   "outputs": [],
   "source": [
    "import numpy as np\n",
    "import matplotlib.pyplot as plt"
   ]
  },
  {
   "cell_type": "code",
   "execution_count": 2,
   "id": "00c67071",
   "metadata": {
    "ExecuteTime": {
     "end_time": "2023-11-07T15:02:24.461883672Z",
     "start_time": "2023-11-07T15:02:13.689830458Z"
    }
   },
   "outputs": [
    {
     "name": "stdout",
     "output_type": "stream",
     "text": [
      "x(n) =  [1, 2, 3, 4]\n",
      "h(n) =  [1, 2, -1]\n"
     ]
    }
   ],
   "source": [
    "x = eval(input(\"Enter first sequence x(n) = \"))\n",
    "h = eval(input(\"Enter second sequence h(n) = \"))\n",
    "print(\"x(n) = \",x)\n",
    "print(\"h(n) = \",h)"
   ]
  },
  {
   "cell_type": "code",
   "execution_count": 3,
   "id": "cd7c3d50",
   "metadata": {
    "ExecuteTime": {
     "end_time": "2023-11-07T15:02:24.462484694Z",
     "start_time": "2023-11-07T15:02:24.418998105Z"
    }
   },
   "outputs": [
    {
     "name": "stdout",
     "output_type": "stream",
     "text": [
      "Length is:  6\n"
     ]
    }
   ],
   "source": [
    "L = len(x)\n",
    "M = len(h)\n",
    "N = L + M - 1\n",
    "print(\"Length is: \",N)"
   ]
  },
  {
   "cell_type": "code",
   "execution_count": 4,
   "id": "b170569d",
   "metadata": {
    "ExecuteTime": {
     "end_time": "2023-11-07T15:02:24.463147919Z",
     "start_time": "2023-11-07T15:02:24.425042672Z"
    }
   },
   "outputs": [
    {
     "name": "stdout",
     "output_type": "stream",
     "text": [
      "[1. 2. 3. 4. 0. 0.]\n",
      "[ 1.  2. -1.  0.  0.  0.]\n"
     ]
    }
   ],
   "source": [
    "#Zero Padding sequence of x(n) & h(n)\n",
    "xp = np.append(x,np.zeros(N-L))\n",
    "hp = np.append(h,np.zeros(N-M))\n",
    "print(xp)\n",
    "print(hp)"
   ]
  },
  {
   "cell_type": "code",
   "execution_count": 5,
   "id": "27acfa78",
   "metadata": {
    "ExecuteTime": {
     "end_time": "2023-11-07T15:02:24.463695645Z",
     "start_time": "2023-11-07T15:02:24.441757406Z"
    }
   },
   "outputs": [
    {
     "name": "stdout",
     "output_type": "stream",
     "text": [
      "[ 1.  4.  6.  8.  5. -4.]\n"
     ]
    }
   ],
   "source": [
    "#Implementation of Convolution sum\n",
    "Y = np.zeros(N)\n",
    "y = np.zeros(N)\n",
    "for n in range(N):\n",
    "    for k in range(N):\n",
    "        if n >= k:\n",
    "            y[n]+= hp[k] * xp[n-k]\n",
    "            Y = y\n",
    "\n",
    "print(Y)"
   ]
  },
  {
   "cell_type": "code",
   "execution_count": 6,
   "id": "2a5f2956",
   "metadata": {
    "ExecuteTime": {
     "end_time": "2023-11-07T15:02:24.685976449Z",
     "start_time": "2023-11-07T15:02:24.447255389Z"
    }
   },
   "outputs": [
    {
     "data": {
      "text/plain": "Text(0.5, 1.0, 'Your Name')"
     },
     "execution_count": 6,
     "metadata": {},
     "output_type": "execute_result"
    },
    {
     "data": {
      "text/plain": "<Figure size 640x480 with 1 Axes>",
      "image/png": "[encoded data removed]"
     },
     "metadata": {},
     "output_type": "display_data"
    }
   ],
   "source": [
    "plt.stem(Y,linefmt = 'red')\n",
    "plt.xlabel('Discrete Time Variable n',fontsize = 15)\n",
    "plt.ylabel('Convolution Sum',fontsize = 15)\n",
    "plt.title('Your Name', fontsize = 12)"
   ]
  },
  {
   "cell_type": "code",
   "execution_count": 7,
   "id": "9276cb71",
   "metadata": {
    "ExecuteTime": {
     "end_time": "2023-11-07T15:02:24.689227489Z",
     "start_time": "2023-11-07T15:02:24.685828667Z"
    }
   },
   "outputs": [
    {
     "data": {
      "text/plain": "array([ 1,  4,  6,  8,  5, -4])"
     },
     "execution_count": 7,
     "metadata": {},
     "output_type": "execute_result"
    }
   ],
   "source": [
    "#Verification through inbuilt syntax\n",
    "P = np.convolve(x,h)\n",
    "P"
   ]
  },
  {
   "cell_type": "code",
   "execution_count": 8,
   "id": "1fb581c8",
   "metadata": {
    "ExecuteTime": {
     "end_time": "2023-11-07T15:02:24.746241525Z",
     "start_time": "2023-11-07T15:02:24.689858676Z"
    }
   },
   "outputs": [
    {
     "name": "stdout",
     "output_type": "stream",
     "text": [
      "10\n",
      "2\n",
      "20\n"
     ]
    }
   ],
   "source": [
    "#Summation of sequences\n",
    "X = np.sum(x)\n",
    "H = np.sum(h)\n",
    "W = np.sum(y)\n",
    "print(X)\n",
    "print(H)\n",
    "\n",
    "#Verification\n",
    "W = X * H\n",
    "print(W)"
   ]
  }
 ],
 "metadata": {
  "kernelspec": {
   "display_name": "Python 3 (ipykernel)",
   "language": "python",
   "name": "python3"
  },
  "language_info": {
   "codemirror_mode": {
    "name": "ipython",
    "version": 3
   },
   "file_extension": ".py",
   "mimetype": "text/x-python",
   "name": "python",
   "nbconvert_exporter": "python",
   "pygments_lexer": "ipython3",
   "version": "3.9.12"
  }
 },
 "nbformat": 4,
 "nbformat_minor": 5
}
