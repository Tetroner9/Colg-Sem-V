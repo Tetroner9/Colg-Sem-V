{
 "nbformat": 4,
 "nbformat_minor": 0,
 "metadata": {
  "colab": {
   "provenance": []
  },
  "kernelspec": {
   "name": "python3",
   "language": "python",
   "display_name": "Python 3 (ipykernel)"
  },
  "language_info": {
   "name": "python"
  }
 },
 "cells": [
  {
   "cell_type": "code",
   "execution_count": 25,
   "metadata": {
    "colab": {
     "base_uri": "https://localhost:8080/"
    },
    "id": "mi6SR4qPlNOA",
    "outputId": "52a797c5-302d-4187-8930-91affcde626c",
    "ExecuteTime": {
     "end_time": "2023-08-27T13:33:52.312667249Z",
     "start_time": "2023-08-27T13:33:52.269847253Z"
    }
   },
   "outputs": [
    {
     "name": "stdout",
     "output_type": "stream",
     "text": [
      "[1 0 1 1]\n",
      "[1 0 0 1]\n"
     ]
    }
   ],
   "source": [
    "import numpy as np\n",
    "G = np.array([1,0,1,1])\n",
    "M = np.array([1,0,0,1])\n",
    "print(G)\n",
    "print(M)"
   ]
  },
  {
   "cell_type": "code",
   "source": [
    "g = np.poly1d(G)\n",
    "print(g)\n",
    "m = np.poly1d(M)\n",
    "print(m)"
   ],
   "metadata": {
    "colab": {
     "base_uri": "https://localhost:8080/"
    },
    "id": "RFKe8mrKla-7",
    "outputId": "23ef0a06-f0fe-4854-ed7f-930edbf0c2a4",
    "ExecuteTime": {
     "end_time": "2023-08-27T13:33:52.368130660Z",
     "start_time": "2023-08-27T13:33:52.275565571Z"
    }
   },
   "execution_count": 26,
   "outputs": [
    {
     "name": "stdout",
     "output_type": "stream",
     "text": [
      "   3\n",
      "1 x + 1 x + 1\n",
      "   3\n",
      "1 x + 1\n"
     ]
    }
   ]
  },
  {
   "cell_type": "code",
   "source": [
    "#n-k shift r\n",
    "r = g.order\n",
    "parity = np.zeros((r+1))\n",
    "parity[0] = 1\n",
    "parity = np.poly1d(parity)\n",
    "print(parity)"
   ],
   "metadata": {
    "colab": {
     "base_uri": "https://localhost:8080/"
    },
    "id": "TXsr7xtWlq-Q",
    "outputId": "f7643b22-0870-45b0-8639-3704e1a66d49",
    "ExecuteTime": {
     "end_time": "2023-08-27T13:33:52.368447430Z",
     "start_time": "2023-08-27T13:33:52.317213004Z"
    }
   },
   "execution_count": 27,
   "outputs": [
    {
     "name": "stdout",
     "output_type": "stream",
     "text": [
      "   3\n",
      "1 x\n"
     ]
    }
   ]
  },
  {
   "cell_type": "code",
   "source": [
    "m_shifted = np.polymul(m,parity)\n",
    "print(m_shifted)"
   ],
   "metadata": {
    "colab": {
     "base_uri": "https://localhost:8080/"
    },
    "id": "LJKRun7dmaK_",
    "outputId": "4595c24d-2cb1-4476-da70-0a538bfeded9",
    "ExecuteTime": {
     "end_time": "2023-08-27T13:33:52.368725210Z",
     "start_time": "2023-08-27T13:33:52.317511366Z"
    }
   },
   "execution_count": 28,
   "outputs": [
    {
     "name": "stdout",
     "output_type": "stream",
     "text": [
      "   6     3\n",
      "1 x + 1 x\n"
     ]
    }
   ]
  },
  {
   "cell_type": "code",
   "source": [
    "#dividing shifted by g\n",
    "q,rem = np.polydiv(m_shifted,g)\n",
    "print(rem)"
   ],
   "metadata": {
    "colab": {
     "base_uri": "https://localhost:8080/"
    },
    "id": "J1KSwqj5mxOA",
    "outputId": "073802cd-56f2-4c42-acba-a36bb139dd67",
    "ExecuteTime": {
     "end_time": "2023-08-27T13:33:52.368960386Z",
     "start_time": "2023-08-27T13:33:52.317766837Z"
    }
   },
   "execution_count": 29,
   "outputs": [
    {
     "name": "stdout",
     "output_type": "stream",
     "text": [
      "   2\n",
      "1 x + 1 x\n"
     ]
    }
   ]
  },
  {
   "cell_type": "code",
   "source": [
    "R = rem.c\n",
    "R = R % 2\n",
    "print(R)"
   ],
   "metadata": {
    "colab": {
     "base_uri": "https://localhost:8080/"
    },
    "id": "6q5Kpul_m9bw",
    "outputId": "f165b113-c6e7-4371-aa67-5661d348f125",
    "ExecuteTime": {
     "end_time": "2023-08-27T13:33:52.369175168Z",
     "start_time": "2023-08-27T13:33:52.318002346Z"
    }
   },
   "execution_count": 30,
   "outputs": [
    {
     "name": "stdout",
     "output_type": "stream",
     "text": [
      "[1. 1. 0.]\n"
     ]
    }
   ]
  },
  {
   "cell_type": "code",
   "source": [
    "C = np.hstack((M,R))\n",
    "C = C.astype(int)\n",
    "print(C)"
   ],
   "metadata": {
    "colab": {
     "base_uri": "https://localhost:8080/"
    },
    "id": "NNXwmaIgnDow",
    "outputId": "796ad6ba-5096-4b73-a3d1-74d9ba717ad8",
    "ExecuteTime": {
     "end_time": "2023-08-27T13:33:52.369430297Z",
     "start_time": "2023-08-27T13:33:52.318228678Z"
    }
   },
   "execution_count": 31,
   "outputs": [
    {
     "name": "stdout",
     "output_type": "stream",
     "text": [
      "[1 0 0 1 1 1 0]\n"
     ]
    }
   ]
  },
  {
   "cell_type": "markdown",
   "source": [
    "**DECODING**"
   ],
   "metadata": {
    "id": "RjwPGPjhrKbK"
   }
  },
  {
   "cell_type": "code",
   "source": [
    "#introducing error at 3rd bit\n",
    "RC = C\n",
    "RC[3] = int(not RC[3])\n",
    "print(RC)"
   ],
   "metadata": {
    "colab": {
     "base_uri": "https://localhost:8080/"
    },
    "id": "A8_ewMe-ngoA",
    "outputId": "a50d567b-51f8-450c-fda9-df36700fe16b",
    "ExecuteTime": {
     "end_time": "2023-08-27T13:33:52.369670638Z",
     "start_time": "2023-08-27T13:33:52.318560022Z"
    }
   },
   "execution_count": 32,
   "outputs": [
    {
     "name": "stdout",
     "output_type": "stream",
     "text": [
      "[1 0 0 0 1 1 0]\n"
     ]
    }
   ]
  },
  {
   "cell_type": "code",
   "source": [
    "rc = np.poly1d(RC)\n",
    "print(rc)"
   ],
   "metadata": {
    "colab": {
     "base_uri": "https://localhost:8080/"
    },
    "id": "N3uB_XuYnnEQ",
    "outputId": "6b027747-a461-4983-9768-2b0d29a2054a",
    "ExecuteTime": {
     "end_time": "2023-08-27T13:33:52.369915005Z",
     "start_time": "2023-08-27T13:33:52.318797082Z"
    }
   },
   "execution_count": 33,
   "outputs": [
    {
     "name": "stdout",
     "output_type": "stream",
     "text": [
      "   6     2\n",
      "1 x + 1 x + 1 x\n"
     ]
    }
   ]
  },
  {
   "cell_type": "code",
   "source": [
    "q, s = np.polydiv(rc,g)\n",
    "print(s)"
   ],
   "metadata": {
    "colab": {
     "base_uri": "https://localhost:8080/"
    },
    "id": "J7Vimlg_n1m_",
    "outputId": "af4b3f13-08dc-4927-af85-7f76c0f5e8da",
    "ExecuteTime": {
     "end_time": "2023-08-27T13:33:52.370119104Z",
     "start_time": "2023-08-27T13:33:52.319002568Z"
    }
   },
   "execution_count": 34,
   "outputs": [
    {
     "name": "stdout",
     "output_type": "stream",
     "text": [
      "   2\n",
      "2 x + 3 x + 1\n"
     ]
    }
   ]
  },
  {
   "cell_type": "code",
   "source": [
    "#Syndrome\n",
    "S = s.c\n",
    "S = S % 2\n",
    "print(S)"
   ],
   "metadata": {
    "colab": {
     "base_uri": "https://localhost:8080/"
    },
    "id": "UTAzHm7poCyv",
    "outputId": "de98ccc8-e15e-4445-d3ba-9c2db4407c14",
    "ExecuteTime": {
     "end_time": "2023-08-27T13:33:52.370320841Z",
     "start_time": "2023-08-27T13:33:52.319199722Z"
    }
   },
   "execution_count": 35,
   "outputs": [
    {
     "name": "stdout",
     "output_type": "stream",
     "text": [
      "[0. 1. 1.]\n"
     ]
    }
   ]
  },
  {
   "cell_type": "code",
   "source": [
    "#Checking for errors\n",
    "if S.all == 0:\n",
    "  print(\"No Error\")\n",
    "else:\n",
    "  print(\"Error\")"
   ],
   "metadata": {
    "colab": {
     "base_uri": "https://localhost:8080/"
    },
    "id": "KEIZosBCoJAO",
    "outputId": "00fd7b68-5e22-4739-8e57-99eaf56861b7",
    "ExecuteTime": {
     "end_time": "2023-08-27T13:33:52.370520207Z",
     "start_time": "2023-08-27T13:33:52.323812676Z"
    }
   },
   "execution_count": 36,
   "outputs": [
    {
     "name": "stdout",
     "output_type": "stream",
     "text": [
      "Error\n"
     ]
    }
   ]
  }
 ]
}
