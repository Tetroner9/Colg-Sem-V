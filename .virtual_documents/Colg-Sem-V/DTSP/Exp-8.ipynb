'''
Name: Om Kadam
Class: EXTC-A
Batch: TA-3
Roll No: 45
Semester: V
Date: 05-10-2023
Time: 14:00
'''





# Importing inbuilt python libraries
import numpy as np
import matplotlib.pyplot as plt


# Sketching gtime domain representation of input signals x1(n),x2(n),x3(n) and joint
F1=10
F2=30
Ft=100
f1=np.divide(F1,Ft)
f2=np.divide(F2,Ft)
print(f1)
print(f2)


n=np.arange(0,100)
x1=10*np.sin(2*np.pi*f1*n)
plt.figure(figsize=(10,4))
plt.subplot(4,1,1)
plt.stem(n,x1)
plt.title("OM's Input Signal",fontsize=15)
x2=5*np.sin(2*np.pi*f2*n)
plt.figure(figsize=(10,4))
plt.subplot(4,1,2)
plt.stem(n,x2)
x3=3*np.random.normal(0,1,100)
plt.figure(figsize=(10,4))
plt.subplot(4,1,3)
plt.stem(n,x3)
plt.ylabel('Amplitude',fontsize=12)
x=np.add(x1,x2,x3)
plt.figure(figsize=(10,4))
plt.subplot(4,1,4)
plt.stem(n,x)
plt.xlabel('Discrete Time Variable n',fontsize=12)


# Spectrum visualization of joint sinusoidial
X=np.fft.fft(x)
X_mag = abs(X)
plt.stem(X_mag)
plt.xlabel('Discrete Frequence k',fontsize=12)
plt.ylabel('Amplitude',fontsize=12)
plt.title("OM's Spectrum",fontsize=15)
